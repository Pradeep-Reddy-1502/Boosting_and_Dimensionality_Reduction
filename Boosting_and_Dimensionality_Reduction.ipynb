{
 "cells": [
  {
   "cell_type": "markdown",
   "id": "efe0b908",
   "metadata": {},
   "source": [
    "# Importing packages:"
   ]
  },
  {
   "cell_type": "code",
   "execution_count": 1,
   "id": "a6703381",
   "metadata": {},
   "outputs": [],
   "source": [
    "import numpy as np\n",
    "import pandas as pd \n",
    "import matplotlib.pyplot as plt\n",
    "import seaborn as sns\n",
    "import warnings\n",
    "warnings.filterwarnings('ignore')"
   ]
  },
  {
   "cell_type": "markdown",
   "id": "f6f3481b",
   "metadata": {},
   "source": [
    "# Data Understanding:"
   ]
  },
  {
   "cell_type": "code",
   "execution_count": 2,
   "id": "7d83ed0f",
   "metadata": {},
   "outputs": [],
   "source": [
    "data=pd.read_excel('Core_Swi_23.xlsx',header=0)"
   ]
  },
  {
   "cell_type": "code",
   "execution_count": 3,
   "id": "bc60987c",
   "metadata": {},
   "outputs": [
    {
     "data": {
      "text/html": [
       "<div>\n",
       "<style scoped>\n",
       "    .dataframe tbody tr th:only-of-type {\n",
       "        vertical-align: middle;\n",
       "    }\n",
       "\n",
       "    .dataframe tbody tr th {\n",
       "        vertical-align: top;\n",
       "    }\n",
       "\n",
       "    .dataframe thead th {\n",
       "        text-align: right;\n",
       "    }\n",
       "</style>\n",
       "<table border=\"1\" class=\"dataframe\">\n",
       "  <thead>\n",
       "    <tr style=\"text-align: right;\">\n",
       "      <th></th>\n",
       "      <th>Depth</th>\n",
       "      <th>TOC</th>\n",
       "      <th>Calcite</th>\n",
       "      <th>Porosity</th>\n",
       "      <th>Swirr</th>\n",
       "      <th>Quartz</th>\n",
       "      <th>TOC1</th>\n",
       "      <th>Mineral</th>\n",
       "      <th>Wat_Per</th>\n",
       "      <th>TOC_Per</th>\n",
       "      <th>QC</th>\n",
       "      <th>PS</th>\n",
       "      <th>S2</th>\n",
       "      <th>TOC3</th>\n",
       "      <th>PS2</th>\n",
       "      <th>PS3</th>\n",
       "      <th>PS4</th>\n",
       "    </tr>\n",
       "  </thead>\n",
       "  <tbody>\n",
       "    <tr>\n",
       "      <th>0</th>\n",
       "      <td>2773.88</td>\n",
       "      <td>4.389823</td>\n",
       "      <td>0.000000</td>\n",
       "      <td>7.059657</td>\n",
       "      <td>7.113304</td>\n",
       "      <td>40.625792</td>\n",
       "      <td>19.270550</td>\n",
       "      <td>40.625792</td>\n",
       "      <td>1.007599</td>\n",
       "      <td>0.621818</td>\n",
       "      <td>-40.625792</td>\n",
       "      <td>-0.053647</td>\n",
       "      <td>0.005060</td>\n",
       "      <td>0.092058</td>\n",
       "      <td>50.217483</td>\n",
       "      <td>0.084014</td>\n",
       "      <td>0.035721</td>\n",
       "    </tr>\n",
       "    <tr>\n",
       "      <th>1</th>\n",
       "      <td>2776.00</td>\n",
       "      <td>4.386618</td>\n",
       "      <td>6.364645</td>\n",
       "      <td>6.336578</td>\n",
       "      <td>9.364680</td>\n",
       "      <td>51.606889</td>\n",
       "      <td>19.242421</td>\n",
       "      <td>57.971534</td>\n",
       "      <td>1.477877</td>\n",
       "      <td>0.692269</td>\n",
       "      <td>-45.242245</td>\n",
       "      <td>-3.028102</td>\n",
       "      <td>0.008770</td>\n",
       "      <td>0.068213</td>\n",
       "      <td>59.340029</td>\n",
       "      <td>0.013945</td>\n",
       "      <td>0.055570</td>\n",
       "    </tr>\n",
       "    <tr>\n",
       "      <th>2</th>\n",
       "      <td>2778.13</td>\n",
       "      <td>3.445457</td>\n",
       "      <td>2.639268</td>\n",
       "      <td>4.697208</td>\n",
       "      <td>5.931133</td>\n",
       "      <td>41.462293</td>\n",
       "      <td>11.871172</td>\n",
       "      <td>44.101561</td>\n",
       "      <td>1.262693</td>\n",
       "      <td>0.733512</td>\n",
       "      <td>-38.823025</td>\n",
       "      <td>-1.233925</td>\n",
       "      <td>0.003518</td>\n",
       "      <td>0.070605</td>\n",
       "      <td>27.859765</td>\n",
       "      <td>0.011315</td>\n",
       "      <td>0.016524</td>\n",
       "    </tr>\n",
       "    <tr>\n",
       "      <th>3</th>\n",
       "      <td>2780.25</td>\n",
       "      <td>-0.310000</td>\n",
       "      <td>67.332860</td>\n",
       "      <td>6.321279</td>\n",
       "      <td>11.776418</td>\n",
       "      <td>4.069170</td>\n",
       "      <td>0.096100</td>\n",
       "      <td>71.402031</td>\n",
       "      <td>1.862980</td>\n",
       "      <td>-0.049041</td>\n",
       "      <td>63.263690</td>\n",
       "      <td>-5.455139</td>\n",
       "      <td>0.013868</td>\n",
       "      <td>-0.003989</td>\n",
       "      <td>74.442022</td>\n",
       "      <td>0.004510</td>\n",
       "      <td>0.087666</td>\n",
       "    </tr>\n",
       "    <tr>\n",
       "      <th>4</th>\n",
       "      <td>2782.48</td>\n",
       "      <td>4.059924</td>\n",
       "      <td>0.618621</td>\n",
       "      <td>5.686218</td>\n",
       "      <td>7.382626</td>\n",
       "      <td>38.091079</td>\n",
       "      <td>16.482983</td>\n",
       "      <td>38.709700</td>\n",
       "      <td>1.298337</td>\n",
       "      <td>0.713994</td>\n",
       "      <td>-37.472458</td>\n",
       "      <td>-1.696408</td>\n",
       "      <td>0.005450</td>\n",
       "      <td>0.091448</td>\n",
       "      <td>41.979219</td>\n",
       "      <td>0.015487</td>\n",
       "      <td>0.030992</td>\n",
       "    </tr>\n",
       "  </tbody>\n",
       "</table>\n",
       "</div>"
      ],
      "text/plain": [
       "     Depth       TOC    Calcite  Porosity      Swirr     Quartz       TOC1  \\\n",
       "0  2773.88  4.389823   0.000000  7.059657   7.113304  40.625792  19.270550   \n",
       "1  2776.00  4.386618   6.364645  6.336578   9.364680  51.606889  19.242421   \n",
       "2  2778.13  3.445457   2.639268  4.697208   5.931133  41.462293  11.871172   \n",
       "3  2780.25 -0.310000  67.332860  6.321279  11.776418   4.069170   0.096100   \n",
       "4  2782.48  4.059924   0.618621  5.686218   7.382626  38.091079  16.482983   \n",
       "\n",
       "     Mineral   Wat_Per   TOC_Per         QC        PS        S2      TOC3  \\\n",
       "0  40.625792  1.007599  0.621818 -40.625792 -0.053647  0.005060  0.092058   \n",
       "1  57.971534  1.477877  0.692269 -45.242245 -3.028102  0.008770  0.068213   \n",
       "2  44.101561  1.262693  0.733512 -38.823025 -1.233925  0.003518  0.070605   \n",
       "3  71.402031  1.862980 -0.049041  63.263690 -5.455139  0.013868 -0.003989   \n",
       "4  38.709700  1.298337  0.713994 -37.472458 -1.696408  0.005450  0.091448   \n",
       "\n",
       "         PS2       PS3       PS4  \n",
       "0  50.217483  0.084014  0.035721  \n",
       "1  59.340029  0.013945  0.055570  \n",
       "2  27.859765  0.011315  0.016524  \n",
       "3  74.442022  0.004510  0.087666  \n",
       "4  41.979219  0.015487  0.030992  "
      ]
     },
     "execution_count": 3,
     "metadata": {},
     "output_type": "execute_result"
    }
   ],
   "source": [
    "data.head()"
   ]
  },
  {
   "cell_type": "code",
   "execution_count": 4,
   "id": "38930a98",
   "metadata": {},
   "outputs": [
    {
     "data": {
      "text/plain": [
       "3264"
      ]
     },
     "execution_count": 4,
     "metadata": {},
     "output_type": "execute_result"
    }
   ],
   "source": [
    "data.size"
   ]
  },
  {
   "cell_type": "code",
   "execution_count": 5,
   "id": "fe081f7c",
   "metadata": {},
   "outputs": [
    {
     "name": "stdout",
     "output_type": "stream",
     "text": [
      "<class 'pandas.core.frame.DataFrame'>\n",
      "RangeIndex: 192 entries, 0 to 191\n",
      "Data columns (total 17 columns):\n",
      " #   Column    Non-Null Count  Dtype  \n",
      "---  ------    --------------  -----  \n",
      " 0   Depth     192 non-null    float64\n",
      " 1   TOC       192 non-null    float64\n",
      " 2   Calcite   192 non-null    float64\n",
      " 3   Porosity  190 non-null    float64\n",
      " 4   Swirr     192 non-null    float64\n",
      " 5   Quartz    192 non-null    float64\n",
      " 6   TOC1      192 non-null    float64\n",
      " 7   Mineral   192 non-null    float64\n",
      " 8   Wat_Per   190 non-null    float64\n",
      " 9   TOC_Per   190 non-null    float64\n",
      " 10  QC        192 non-null    float64\n",
      " 11  PS        190 non-null    float64\n",
      " 12  S2        192 non-null    float64\n",
      " 13  TOC3      190 non-null    float64\n",
      " 14  PS2       190 non-null    float64\n",
      " 15  PS3       190 non-null    float64\n",
      " 16  PS4       190 non-null    float64\n",
      "dtypes: float64(17)\n",
      "memory usage: 25.6 KB\n"
     ]
    }
   ],
   "source": [
    "data.info()"
   ]
  },
  {
   "cell_type": "code",
   "execution_count": 6,
   "id": "20695688",
   "metadata": {},
   "outputs": [
    {
     "data": {
      "text/html": [
       "<div>\n",
       "<style scoped>\n",
       "    .dataframe tbody tr th:only-of-type {\n",
       "        vertical-align: middle;\n",
       "    }\n",
       "\n",
       "    .dataframe tbody tr th {\n",
       "        vertical-align: top;\n",
       "    }\n",
       "\n",
       "    .dataframe thead th {\n",
       "        text-align: right;\n",
       "    }\n",
       "</style>\n",
       "<table border=\"1\" class=\"dataframe\">\n",
       "  <thead>\n",
       "    <tr style=\"text-align: right;\">\n",
       "      <th></th>\n",
       "      <th>Depth</th>\n",
       "      <th>TOC</th>\n",
       "      <th>Calcite</th>\n",
       "      <th>Porosity</th>\n",
       "      <th>Swirr</th>\n",
       "      <th>Quartz</th>\n",
       "      <th>TOC1</th>\n",
       "      <th>Mineral</th>\n",
       "      <th>Wat_Per</th>\n",
       "      <th>TOC_Per</th>\n",
       "      <th>QC</th>\n",
       "      <th>PS</th>\n",
       "      <th>S2</th>\n",
       "      <th>TOC3</th>\n",
       "      <th>PS2</th>\n",
       "      <th>PS3</th>\n",
       "      <th>PS4</th>\n",
       "    </tr>\n",
       "  </thead>\n",
       "  <tbody>\n",
       "    <tr>\n",
       "      <th>count</th>\n",
       "      <td>192.000000</td>\n",
       "      <td>192.000000</td>\n",
       "      <td>192.000000</td>\n",
       "      <td>190.000000</td>\n",
       "      <td>192.000000</td>\n",
       "      <td>192.000000</td>\n",
       "      <td>192.000000</td>\n",
       "      <td>192.000000</td>\n",
       "      <td>190.000000</td>\n",
       "      <td>190.000000</td>\n",
       "      <td>192.000000</td>\n",
       "      <td>190.000000</td>\n",
       "      <td>192.000000</td>\n",
       "      <td>190.000000</td>\n",
       "      <td>190.000000</td>\n",
       "      <td>1.900000e+02</td>\n",
       "      <td>190.000000</td>\n",
       "    </tr>\n",
       "    <tr>\n",
       "      <th>mean</th>\n",
       "      <td>2980.248872</td>\n",
       "      <td>3.869396</td>\n",
       "      <td>13.177719</td>\n",
       "      <td>4.343813</td>\n",
       "      <td>10.772870</td>\n",
       "      <td>29.441638</td>\n",
       "      <td>17.847483</td>\n",
       "      <td>42.619357</td>\n",
       "      <td>2.997601</td>\n",
       "      <td>0.937791</td>\n",
       "      <td>-16.263920</td>\n",
       "      <td>-6.382774</td>\n",
       "      <td>0.014011</td>\n",
       "      <td>0.099013</td>\n",
       "      <td>44.520906</td>\n",
       "      <td>1.807559e-02</td>\n",
       "      <td>0.055359</td>\n",
       "    </tr>\n",
       "    <tr>\n",
       "      <th>std</th>\n",
       "      <td>123.986170</td>\n",
       "      <td>1.700091</td>\n",
       "      <td>20.524541</td>\n",
       "      <td>1.423776</td>\n",
       "      <td>4.917624</td>\n",
       "      <td>14.812371</td>\n",
       "      <td>13.209178</td>\n",
       "      <td>15.835459</td>\n",
       "      <td>2.184789</td>\n",
       "      <td>0.550717</td>\n",
       "      <td>32.102406</td>\n",
       "      <td>5.453302</td>\n",
       "      <td>0.013155</td>\n",
       "      <td>0.066123</td>\n",
       "      <td>21.566029</td>\n",
       "      <td>5.909128e-02</td>\n",
       "      <td>0.049780</td>\n",
       "    </tr>\n",
       "    <tr>\n",
       "      <th>min</th>\n",
       "      <td>2773.880000</td>\n",
       "      <td>-0.310000</td>\n",
       "      <td>0.000000</td>\n",
       "      <td>0.695030</td>\n",
       "      <td>2.532676</td>\n",
       "      <td>0.000000</td>\n",
       "      <td>0.096100</td>\n",
       "      <td>2.364779</td>\n",
       "      <td>0.388097</td>\n",
       "      <td>-0.049041</td>\n",
       "      <td>-62.110587</td>\n",
       "      <td>-24.171977</td>\n",
       "      <td>0.000641</td>\n",
       "      <td>-0.003989</td>\n",
       "      <td>5.991988</td>\n",
       "      <td>2.463177e-16</td>\n",
       "      <td>0.002564</td>\n",
       "    </tr>\n",
       "    <tr>\n",
       "      <th>25%</th>\n",
       "      <td>2874.485000</td>\n",
       "      <td>2.629111</td>\n",
       "      <td>0.000000</td>\n",
       "      <td>3.475589</td>\n",
       "      <td>7.109355</td>\n",
       "      <td>17.419381</td>\n",
       "      <td>6.912222</td>\n",
       "      <td>31.768091</td>\n",
       "      <td>1.413643</td>\n",
       "      <td>0.640180</td>\n",
       "      <td>-38.408120</td>\n",
       "      <td>-9.771144</td>\n",
       "      <td>0.005054</td>\n",
       "      <td>0.057373</td>\n",
       "      <td>28.066220</td>\n",
       "      <td>2.399025e-06</td>\n",
       "      <td>0.022464</td>\n",
       "    </tr>\n",
       "    <tr>\n",
       "      <th>50%</th>\n",
       "      <td>2972.865000</td>\n",
       "      <td>4.020012</td>\n",
       "      <td>2.843514</td>\n",
       "      <td>4.434661</td>\n",
       "      <td>10.223862</td>\n",
       "      <td>30.459449</td>\n",
       "      <td>16.160499</td>\n",
       "      <td>41.635001</td>\n",
       "      <td>2.328337</td>\n",
       "      <td>0.805213</td>\n",
       "      <td>-28.821132</td>\n",
       "      <td>-6.029476</td>\n",
       "      <td>0.010453</td>\n",
       "      <td>0.090834</td>\n",
       "      <td>40.369581</td>\n",
       "      <td>2.686075e-04</td>\n",
       "      <td>0.037290</td>\n",
       "    </tr>\n",
       "    <tr>\n",
       "      <th>75%</th>\n",
       "      <td>3084.340000</td>\n",
       "      <td>5.079729</td>\n",
       "      <td>17.224044</td>\n",
       "      <td>5.203863</td>\n",
       "      <td>13.452185</td>\n",
       "      <td>40.960765</td>\n",
       "      <td>25.803648</td>\n",
       "      <td>53.416631</td>\n",
       "      <td>3.607545</td>\n",
       "      <td>1.092348</td>\n",
       "      <td>-4.476986</td>\n",
       "      <td>-1.903312</td>\n",
       "      <td>0.018096</td>\n",
       "      <td>0.135073</td>\n",
       "      <td>59.270148</td>\n",
       "      <td>8.020231e-03</td>\n",
       "      <td>0.074841</td>\n",
       "    </tr>\n",
       "    <tr>\n",
       "      <th>90%</th>\n",
       "      <td>3158.687333</td>\n",
       "      <td>5.935849</td>\n",
       "      <td>48.813750</td>\n",
       "      <td>6.284220</td>\n",
       "      <td>16.828073</td>\n",
       "      <td>45.495337</td>\n",
       "      <td>35.234606</td>\n",
       "      <td>63.561605</td>\n",
       "      <td>6.222434</td>\n",
       "      <td>1.442546</td>\n",
       "      <td>37.489026</td>\n",
       "      <td>-0.049987</td>\n",
       "      <td>0.028318</td>\n",
       "      <td>0.165035</td>\n",
       "      <td>75.541259</td>\n",
       "      <td>4.891118e-02</td>\n",
       "      <td>0.114484</td>\n",
       "    </tr>\n",
       "    <tr>\n",
       "      <th>95%</th>\n",
       "      <td>3177.405333</td>\n",
       "      <td>6.553754</td>\n",
       "      <td>61.894860</td>\n",
       "      <td>6.574056</td>\n",
       "      <td>20.171450</td>\n",
       "      <td>51.886953</td>\n",
       "      <td>42.952660</td>\n",
       "      <td>69.906392</td>\n",
       "      <td>7.642730</td>\n",
       "      <td>1.966202</td>\n",
       "      <td>53.978074</td>\n",
       "      <td>1.166857</td>\n",
       "      <td>0.040705</td>\n",
       "      <td>0.209146</td>\n",
       "      <td>84.607628</td>\n",
       "      <td>1.004262e-01</td>\n",
       "      <td>0.159222</td>\n",
       "    </tr>\n",
       "    <tr>\n",
       "      <th>99%</th>\n",
       "      <td>3192.379733</td>\n",
       "      <td>7.313012</td>\n",
       "      <td>78.060209</td>\n",
       "      <td>7.024005</td>\n",
       "      <td>24.426201</td>\n",
       "      <td>61.478454</td>\n",
       "      <td>53.488188</td>\n",
       "      <td>81.086548</td>\n",
       "      <td>10.047027</td>\n",
       "      <td>3.094448</td>\n",
       "      <td>73.888979</td>\n",
       "      <td>3.556942</td>\n",
       "      <td>0.059701</td>\n",
       "      <td>0.323982</td>\n",
       "      <td>96.238176</td>\n",
       "      <td>2.815591e-01</td>\n",
       "      <td>0.221913</td>\n",
       "    </tr>\n",
       "    <tr>\n",
       "      <th>max</th>\n",
       "      <td>3196.123333</td>\n",
       "      <td>7.770700</td>\n",
       "      <td>85.867678</td>\n",
       "      <td>8.487825</td>\n",
       "      <td>28.013512</td>\n",
       "      <td>62.110587</td>\n",
       "      <td>60.383773</td>\n",
       "      <td>85.867678</td>\n",
       "      <td>12.404051</td>\n",
       "      <td>5.063122</td>\n",
       "      <td>85.867678</td>\n",
       "      <td>5.193724</td>\n",
       "      <td>0.078476</td>\n",
       "      <td>0.439207</td>\n",
       "      <td>107.614895</td>\n",
       "      <td>5.827042e-01</td>\n",
       "      <td>0.301467</td>\n",
       "    </tr>\n",
       "  </tbody>\n",
       "</table>\n",
       "</div>"
      ],
      "text/plain": [
       "             Depth         TOC     Calcite    Porosity       Swirr  \\\n",
       "count   192.000000  192.000000  192.000000  190.000000  192.000000   \n",
       "mean   2980.248872    3.869396   13.177719    4.343813   10.772870   \n",
       "std     123.986170    1.700091   20.524541    1.423776    4.917624   \n",
       "min    2773.880000   -0.310000    0.000000    0.695030    2.532676   \n",
       "25%    2874.485000    2.629111    0.000000    3.475589    7.109355   \n",
       "50%    2972.865000    4.020012    2.843514    4.434661   10.223862   \n",
       "75%    3084.340000    5.079729   17.224044    5.203863   13.452185   \n",
       "90%    3158.687333    5.935849   48.813750    6.284220   16.828073   \n",
       "95%    3177.405333    6.553754   61.894860    6.574056   20.171450   \n",
       "99%    3192.379733    7.313012   78.060209    7.024005   24.426201   \n",
       "max    3196.123333    7.770700   85.867678    8.487825   28.013512   \n",
       "\n",
       "           Quartz        TOC1     Mineral     Wat_Per     TOC_Per          QC  \\\n",
       "count  192.000000  192.000000  192.000000  190.000000  190.000000  192.000000   \n",
       "mean    29.441638   17.847483   42.619357    2.997601    0.937791  -16.263920   \n",
       "std     14.812371   13.209178   15.835459    2.184789    0.550717   32.102406   \n",
       "min      0.000000    0.096100    2.364779    0.388097   -0.049041  -62.110587   \n",
       "25%     17.419381    6.912222   31.768091    1.413643    0.640180  -38.408120   \n",
       "50%     30.459449   16.160499   41.635001    2.328337    0.805213  -28.821132   \n",
       "75%     40.960765   25.803648   53.416631    3.607545    1.092348   -4.476986   \n",
       "90%     45.495337   35.234606   63.561605    6.222434    1.442546   37.489026   \n",
       "95%     51.886953   42.952660   69.906392    7.642730    1.966202   53.978074   \n",
       "99%     61.478454   53.488188   81.086548   10.047027    3.094448   73.888979   \n",
       "max     62.110587   60.383773   85.867678   12.404051    5.063122   85.867678   \n",
       "\n",
       "               PS          S2        TOC3         PS2           PS3  \\\n",
       "count  190.000000  192.000000  190.000000  190.000000  1.900000e+02   \n",
       "mean    -6.382774    0.014011    0.099013   44.520906  1.807559e-02   \n",
       "std      5.453302    0.013155    0.066123   21.566029  5.909128e-02   \n",
       "min    -24.171977    0.000641   -0.003989    5.991988  2.463177e-16   \n",
       "25%     -9.771144    0.005054    0.057373   28.066220  2.399025e-06   \n",
       "50%     -6.029476    0.010453    0.090834   40.369581  2.686075e-04   \n",
       "75%     -1.903312    0.018096    0.135073   59.270148  8.020231e-03   \n",
       "90%     -0.049987    0.028318    0.165035   75.541259  4.891118e-02   \n",
       "95%      1.166857    0.040705    0.209146   84.607628  1.004262e-01   \n",
       "99%      3.556942    0.059701    0.323982   96.238176  2.815591e-01   \n",
       "max      5.193724    0.078476    0.439207  107.614895  5.827042e-01   \n",
       "\n",
       "              PS4  \n",
       "count  190.000000  \n",
       "mean     0.055359  \n",
       "std      0.049780  \n",
       "min      0.002564  \n",
       "25%      0.022464  \n",
       "50%      0.037290  \n",
       "75%      0.074841  \n",
       "90%      0.114484  \n",
       "95%      0.159222  \n",
       "99%      0.221913  \n",
       "max      0.301467  "
      ]
     },
     "execution_count": 6,
     "metadata": {},
     "output_type": "execute_result"
    }
   ],
   "source": [
    "data.describe(percentiles=[0.25,0.5,0.75,0.9,0.95,0.99])"
   ]
  },
  {
   "cell_type": "markdown",
   "id": "5f14a07a",
   "metadata": {},
   "source": [
    "# Data Cleaning:"
   ]
  },
  {
   "cell_type": "markdown",
   "id": "08c8e31a",
   "metadata": {},
   "source": [
    "## Checking for duplicates:"
   ]
  },
  {
   "cell_type": "code",
   "execution_count": 7,
   "id": "0c07531a",
   "metadata": {},
   "outputs": [
    {
     "data": {
      "text/html": [
       "<div>\n",
       "<style scoped>\n",
       "    .dataframe tbody tr th:only-of-type {\n",
       "        vertical-align: middle;\n",
       "    }\n",
       "\n",
       "    .dataframe tbody tr th {\n",
       "        vertical-align: top;\n",
       "    }\n",
       "\n",
       "    .dataframe thead th {\n",
       "        text-align: right;\n",
       "    }\n",
       "</style>\n",
       "<table border=\"1\" class=\"dataframe\">\n",
       "  <thead>\n",
       "    <tr style=\"text-align: right;\">\n",
       "      <th></th>\n",
       "      <th>Depth</th>\n",
       "      <th>TOC</th>\n",
       "      <th>Calcite</th>\n",
       "      <th>Porosity</th>\n",
       "      <th>Swirr</th>\n",
       "      <th>Quartz</th>\n",
       "      <th>TOC1</th>\n",
       "      <th>Mineral</th>\n",
       "      <th>Wat_Per</th>\n",
       "      <th>TOC_Per</th>\n",
       "      <th>QC</th>\n",
       "      <th>PS</th>\n",
       "      <th>S2</th>\n",
       "      <th>TOC3</th>\n",
       "      <th>PS2</th>\n",
       "      <th>PS3</th>\n",
       "      <th>PS4</th>\n",
       "    </tr>\n",
       "  </thead>\n",
       "  <tbody>\n",
       "  </tbody>\n",
       "</table>\n",
       "</div>"
      ],
      "text/plain": [
       "Empty DataFrame\n",
       "Columns: [Depth, TOC, Calcite, Porosity, Swirr, Quartz, TOC1, Mineral, Wat_Per, TOC_Per, QC, PS, S2, TOC3, PS2, PS3, PS4]\n",
       "Index: []"
      ]
     },
     "execution_count": 7,
     "metadata": {},
     "output_type": "execute_result"
    }
   ],
   "source": [
    "data[data.duplicated()]"
   ]
  },
  {
   "cell_type": "markdown",
   "id": "63bb7d24",
   "metadata": {},
   "source": [
    "## Checking for null values:"
   ]
  },
  {
   "cell_type": "code",
   "execution_count": 8,
   "id": "f3b30cf0",
   "metadata": {},
   "outputs": [
    {
     "data": {
      "text/plain": [
       "Depth       0\n",
       "TOC         0\n",
       "Calcite     0\n",
       "Porosity    2\n",
       "Swirr       0\n",
       "Quartz      0\n",
       "TOC1        0\n",
       "Mineral     0\n",
       "Wat_Per     2\n",
       "TOC_Per     2\n",
       "QC          0\n",
       "PS          2\n",
       "S2          0\n",
       "TOC3        2\n",
       "PS2         2\n",
       "PS3         2\n",
       "PS4         2\n",
       "dtype: int64"
      ]
     },
     "execution_count": 8,
     "metadata": {},
     "output_type": "execute_result"
    }
   ],
   "source": [
    "data.isnull().sum()"
   ]
  },
  {
   "cell_type": "code",
   "execution_count": 9,
   "id": "50bcdd45",
   "metadata": {},
   "outputs": [],
   "source": [
    "# there are few null values here, we can drop them...\n",
    "\n",
    "data.dropna(axis=0,inplace=True)"
   ]
  },
  {
   "cell_type": "code",
   "execution_count": 10,
   "id": "645e0051",
   "metadata": {},
   "outputs": [
    {
     "data": {
      "text/plain": [
       "Depth       0\n",
       "TOC         0\n",
       "Calcite     0\n",
       "Porosity    0\n",
       "Swirr       0\n",
       "Quartz      0\n",
       "TOC1        0\n",
       "Mineral     0\n",
       "Wat_Per     0\n",
       "TOC_Per     0\n",
       "QC          0\n",
       "PS          0\n",
       "S2          0\n",
       "TOC3        0\n",
       "PS2         0\n",
       "PS3         0\n",
       "PS4         0\n",
       "dtype: int64"
      ]
     },
     "execution_count": 10,
     "metadata": {},
     "output_type": "execute_result"
    }
   ],
   "source": [
    "data.isnull().sum()"
   ]
  },
  {
   "cell_type": "markdown",
   "id": "4bd4fc3f",
   "metadata": {},
   "source": [
    "## checking for data types:"
   ]
  },
  {
   "cell_type": "code",
   "execution_count": 11,
   "id": "da91fcd9",
   "metadata": {},
   "outputs": [
    {
     "name": "stdout",
     "output_type": "stream",
     "text": [
      "<class 'pandas.core.frame.DataFrame'>\n",
      "Int64Index: 190 entries, 0 to 191\n",
      "Data columns (total 17 columns):\n",
      " #   Column    Non-Null Count  Dtype  \n",
      "---  ------    --------------  -----  \n",
      " 0   Depth     190 non-null    float64\n",
      " 1   TOC       190 non-null    float64\n",
      " 2   Calcite   190 non-null    float64\n",
      " 3   Porosity  190 non-null    float64\n",
      " 4   Swirr     190 non-null    float64\n",
      " 5   Quartz    190 non-null    float64\n",
      " 6   TOC1      190 non-null    float64\n",
      " 7   Mineral   190 non-null    float64\n",
      " 8   Wat_Per   190 non-null    float64\n",
      " 9   TOC_Per   190 non-null    float64\n",
      " 10  QC        190 non-null    float64\n",
      " 11  PS        190 non-null    float64\n",
      " 12  S2        190 non-null    float64\n",
      " 13  TOC3      190 non-null    float64\n",
      " 14  PS2       190 non-null    float64\n",
      " 15  PS3       190 non-null    float64\n",
      " 16  PS4       190 non-null    float64\n",
      "dtypes: float64(17)\n",
      "memory usage: 26.7 KB\n"
     ]
    }
   ],
   "source": [
    "data.info()"
   ]
  },
  {
   "cell_type": "code",
   "execution_count": 12,
   "id": "f88196ab",
   "metadata": {},
   "outputs": [],
   "source": [
    "# all variables are having correct data types.."
   ]
  },
  {
   "cell_type": "markdown",
   "id": "32ff22eb",
   "metadata": {},
   "source": [
    "# Outlier Analysis:"
   ]
  },
  {
   "cell_type": "code",
   "execution_count": 13,
   "id": "8898c843",
   "metadata": {},
   "outputs": [
    {
     "data": {
      "text/html": [
       "<div>\n",
       "<style scoped>\n",
       "    .dataframe tbody tr th:only-of-type {\n",
       "        vertical-align: middle;\n",
       "    }\n",
       "\n",
       "    .dataframe tbody tr th {\n",
       "        vertical-align: top;\n",
       "    }\n",
       "\n",
       "    .dataframe thead th {\n",
       "        text-align: right;\n",
       "    }\n",
       "</style>\n",
       "<table border=\"1\" class=\"dataframe\">\n",
       "  <thead>\n",
       "    <tr style=\"text-align: right;\">\n",
       "      <th></th>\n",
       "      <th>Depth</th>\n",
       "      <th>TOC</th>\n",
       "      <th>Calcite</th>\n",
       "      <th>Porosity</th>\n",
       "      <th>Swirr</th>\n",
       "      <th>Quartz</th>\n",
       "      <th>TOC1</th>\n",
       "      <th>Mineral</th>\n",
       "      <th>Wat_Per</th>\n",
       "      <th>TOC_Per</th>\n",
       "      <th>QC</th>\n",
       "      <th>PS</th>\n",
       "      <th>S2</th>\n",
       "      <th>TOC3</th>\n",
       "      <th>PS2</th>\n",
       "      <th>PS3</th>\n",
       "      <th>PS4</th>\n",
       "    </tr>\n",
       "  </thead>\n",
       "  <tbody>\n",
       "    <tr>\n",
       "      <th>0</th>\n",
       "      <td>2773.88</td>\n",
       "      <td>4.389823</td>\n",
       "      <td>0.000000</td>\n",
       "      <td>7.059657</td>\n",
       "      <td>7.113304</td>\n",
       "      <td>40.625792</td>\n",
       "      <td>19.270550</td>\n",
       "      <td>40.625792</td>\n",
       "      <td>1.007599</td>\n",
       "      <td>0.621818</td>\n",
       "      <td>-40.625792</td>\n",
       "      <td>-0.053647</td>\n",
       "      <td>0.005060</td>\n",
       "      <td>0.092058</td>\n",
       "      <td>50.217483</td>\n",
       "      <td>0.084014</td>\n",
       "      <td>0.035721</td>\n",
       "    </tr>\n",
       "    <tr>\n",
       "      <th>1</th>\n",
       "      <td>2776.00</td>\n",
       "      <td>4.386618</td>\n",
       "      <td>6.364645</td>\n",
       "      <td>6.336578</td>\n",
       "      <td>9.364680</td>\n",
       "      <td>51.606889</td>\n",
       "      <td>19.242421</td>\n",
       "      <td>57.971534</td>\n",
       "      <td>1.477877</td>\n",
       "      <td>0.692269</td>\n",
       "      <td>-45.242245</td>\n",
       "      <td>-3.028102</td>\n",
       "      <td>0.008770</td>\n",
       "      <td>0.068213</td>\n",
       "      <td>59.340029</td>\n",
       "      <td>0.013945</td>\n",
       "      <td>0.055570</td>\n",
       "    </tr>\n",
       "    <tr>\n",
       "      <th>2</th>\n",
       "      <td>2778.13</td>\n",
       "      <td>3.445457</td>\n",
       "      <td>2.639268</td>\n",
       "      <td>4.697208</td>\n",
       "      <td>5.931133</td>\n",
       "      <td>41.462293</td>\n",
       "      <td>11.871172</td>\n",
       "      <td>44.101561</td>\n",
       "      <td>1.262693</td>\n",
       "      <td>0.733512</td>\n",
       "      <td>-38.823025</td>\n",
       "      <td>-1.233925</td>\n",
       "      <td>0.003518</td>\n",
       "      <td>0.070605</td>\n",
       "      <td>27.859765</td>\n",
       "      <td>0.011315</td>\n",
       "      <td>0.016524</td>\n",
       "    </tr>\n",
       "    <tr>\n",
       "      <th>3</th>\n",
       "      <td>2780.25</td>\n",
       "      <td>-0.310000</td>\n",
       "      <td>67.332860</td>\n",
       "      <td>6.321279</td>\n",
       "      <td>11.776418</td>\n",
       "      <td>4.069170</td>\n",
       "      <td>0.096100</td>\n",
       "      <td>71.402031</td>\n",
       "      <td>1.862980</td>\n",
       "      <td>-0.049041</td>\n",
       "      <td>63.263690</td>\n",
       "      <td>-5.455139</td>\n",
       "      <td>0.013868</td>\n",
       "      <td>-0.003989</td>\n",
       "      <td>74.442022</td>\n",
       "      <td>0.004510</td>\n",
       "      <td>0.087666</td>\n",
       "    </tr>\n",
       "    <tr>\n",
       "      <th>4</th>\n",
       "      <td>2782.48</td>\n",
       "      <td>4.059924</td>\n",
       "      <td>0.618621</td>\n",
       "      <td>5.686218</td>\n",
       "      <td>7.382626</td>\n",
       "      <td>38.091079</td>\n",
       "      <td>16.482983</td>\n",
       "      <td>38.709700</td>\n",
       "      <td>1.298337</td>\n",
       "      <td>0.713994</td>\n",
       "      <td>-37.472458</td>\n",
       "      <td>-1.696408</td>\n",
       "      <td>0.005450</td>\n",
       "      <td>0.091448</td>\n",
       "      <td>41.979219</td>\n",
       "      <td>0.015487</td>\n",
       "      <td>0.030992</td>\n",
       "    </tr>\n",
       "  </tbody>\n",
       "</table>\n",
       "</div>"
      ],
      "text/plain": [
       "     Depth       TOC    Calcite  Porosity      Swirr     Quartz       TOC1  \\\n",
       "0  2773.88  4.389823   0.000000  7.059657   7.113304  40.625792  19.270550   \n",
       "1  2776.00  4.386618   6.364645  6.336578   9.364680  51.606889  19.242421   \n",
       "2  2778.13  3.445457   2.639268  4.697208   5.931133  41.462293  11.871172   \n",
       "3  2780.25 -0.310000  67.332860  6.321279  11.776418   4.069170   0.096100   \n",
       "4  2782.48  4.059924   0.618621  5.686218   7.382626  38.091079  16.482983   \n",
       "\n",
       "     Mineral   Wat_Per   TOC_Per         QC        PS        S2      TOC3  \\\n",
       "0  40.625792  1.007599  0.621818 -40.625792 -0.053647  0.005060  0.092058   \n",
       "1  57.971534  1.477877  0.692269 -45.242245 -3.028102  0.008770  0.068213   \n",
       "2  44.101561  1.262693  0.733512 -38.823025 -1.233925  0.003518  0.070605   \n",
       "3  71.402031  1.862980 -0.049041  63.263690 -5.455139  0.013868 -0.003989   \n",
       "4  38.709700  1.298337  0.713994 -37.472458 -1.696408  0.005450  0.091448   \n",
       "\n",
       "         PS2       PS3       PS4  \n",
       "0  50.217483  0.084014  0.035721  \n",
       "1  59.340029  0.013945  0.055570  \n",
       "2  27.859765  0.011315  0.016524  \n",
       "3  74.442022  0.004510  0.087666  \n",
       "4  41.979219  0.015487  0.030992  "
      ]
     },
     "execution_count": 13,
     "metadata": {},
     "output_type": "execute_result"
    }
   ],
   "source": [
    "data.head()"
   ]
  },
  {
   "cell_type": "code",
   "execution_count": 14,
   "id": "c438a8a5",
   "metadata": {},
   "outputs": [
    {
     "data": {
      "image/png": "[encoded data removed]",
      "text/plain": [
       "<Figure size 1080x720 with 4 Axes>"
      ]
     },
     "metadata": {
      "needs_background": "light"
     },
     "output_type": "display_data"
    }
   ],
   "source": [
    "plt.figure(figsize = [15,10])                         # Box plots of numerical columns after clipping outliers.\n",
    "plt.subplot(2,2,1)\n",
    "sns.boxplot(data['Depth'])\n",
    "plt.xticks(rotation=90)\n",
    "plt.subplot(2,2,2)\n",
    "sns.boxplot(data['TOC'])\n",
    "plt.xticks(rotation=90)\n",
    "plt.subplot(2,2,3)\n",
    "sns.boxplot(data['Calcite'])\n",
    "plt.subplot(2,2,4)\n",
    "sns.boxplot(data['Porosity'])\n",
    "plt.xticks(rotation=90)\n",
    "plt.show()"
   ]
  },
  {
   "cell_type": "code",
   "execution_count": 15,
   "id": "7878c20f",
   "metadata": {},
   "outputs": [
    {
     "data": {
      "image/png": "[encoded data removed]",
      "text/plain": [
       "<Figure size 1080x720 with 4 Axes>"
      ]
     },
     "metadata": {
      "needs_background": "light"
     },
     "output_type": "display_data"
    }
   ],
   "source": [
    "plt.figure(figsize = [15,10])                         # Box plots of numerical columns after clipping outliers.\n",
    "plt.subplot(2,2,1)\n",
    "sns.boxplot(data['Swirr'])\n",
    "plt.xticks(rotation=90)\n",
    "plt.subplot(2,2,2)\n",
    "sns.boxplot(data['Quartz'])\n",
    "plt.xticks(rotation=90)\n",
    "plt.subplot(2,2,3)\n",
    "sns.boxplot(data['TOC1'])\n",
    "plt.subplot(2,2,4)\n",
    "sns.boxplot(data['Mineral'])\n",
    "plt.xticks(rotation=90)\n",
    "plt.show()"
   ]
  },
  {
   "cell_type": "code",
   "execution_count": 16,
   "id": "a86c938b",
   "metadata": {},
   "outputs": [
    {
     "data": {
      "image/png": "[encoded data removed]",
      "text/plain": [
       "<Figure size 1080x720 with 4 Axes>"
      ]
     },
     "metadata": {
      "needs_background": "light"
     },
     "output_type": "display_data"
    }
   ],
   "source": [
    "plt.figure(figsize = [15,10])                       \n",
    "plt.subplot(2,2,1)\n",
    "sns.boxplot(data['Wat_Per'])\n",
    "plt.xticks(rotation=90)\n",
    "plt.subplot(2,2,2)\n",
    "sns.boxplot(data['TOC_Per'])\n",
    "plt.xticks(rotation=90)\n",
    "plt.subplot(2,2,3)\n",
    "sns.boxplot(data['QC'])\n",
    "plt.subplot(2,2,4)\n",
    "sns.boxplot(data['PS'])\n",
    "plt.xticks(rotation=90)\n",
    "plt.show()"
   ]
  },
  {
   "cell_type": "code",
   "execution_count": 17,
   "id": "cc7ec291",
   "metadata": {},
   "outputs": [
    {
     "data": {
      "image/png": "[encoded data removed]",
      "text/plain": [
       "<Figure size 1440x1296 with 5 Axes>"
      ]
     },
     "metadata": {
      "needs_background": "light"
     },
     "output_type": "display_data"
    }
   ],
   "source": [
    "plt.figure(figsize = [20,18])                       \n",
    "plt.subplot(3,2,1)\n",
    "sns.boxplot(data['S2'])\n",
    "plt.xticks(rotation=90)\n",
    "plt.subplot(3,2,2)\n",
    "sns.boxplot(data['TOC3'])\n",
    "plt.xticks(rotation=90)\n",
    "plt.subplot(3,2,3)\n",
    "sns.boxplot(data['PS2'])\n",
    "plt.subplot(3,2,4)\n",
    "sns.boxplot(data['PS3'])\n",
    "plt.xticks(rotation=90)\n",
    "plt.subplot(3,2,5)\n",
    "sns.boxplot(data['PS4'])\n",
    "plt.xticks(rotation=90)\n",
    "plt.show()"
   ]
  },
  {
   "cell_type": "code",
   "execution_count": 18,
   "id": "cac6900e",
   "metadata": {},
   "outputs": [],
   "source": [
    "# we can see that the variables PS4,PS3,S2,TOC3,QC,Wat_Per,TOC_Per,Swirr,TOC1,PS,PS2 have outliers.."
   ]
  },
  {
   "cell_type": "code",
   "execution_count": 19,
   "id": "b45cb884",
   "metadata": {},
   "outputs": [],
   "source": [
    "outliers=['PS4','PS3','S2','TOC3','QC','Wat_Per','TOC_Per','Swirr','TOC1','PS','PS2']\n",
    "\n",
    "for i in outliers:\n",
    "    q1=data[i].quantile(0.25)\n",
    "    q3=data[i].quantile(0.75)\n",
    "    IQR=q3-q1\n",
    "    lower=q1-(1.5*IQR)\n",
    "    upper=q3+(1.5*IQR)\n",
    "    data[i]=data[i].clip(lower=lower,upper=upper)"
   ]
  },
  {
   "cell_type": "code",
   "execution_count": 20,
   "id": "968b25a0",
   "metadata": {},
   "outputs": [
    {
     "data": {
      "image/png": "[encoded data removed]",
      "text/plain": [
       "<Figure size 1440x1296 with 5 Axes>"
      ]
     },
     "metadata": {
      "needs_background": "light"
     },
     "output_type": "display_data"
    }
   ],
   "source": [
    "plt.figure(figsize = [20,18])                         # Box plots of numerical columns after clipping outliers.\n",
    "plt.subplot(3,2,1)\n",
    "sns.boxplot(data['S2'])\n",
    "plt.xticks(rotation=90)\n",
    "plt.subplot(3,2,2)\n",
    "sns.boxplot(data['PS3'])\n",
    "plt.xticks(rotation=90)\n",
    "plt.subplot(3,2,3)\n",
    "sns.boxplot(data['PS4'])\n",
    "plt.subplot(3,2,4)\n",
    "sns.boxplot(data['TOC3'])\n",
    "plt.xticks(rotation=90)\n",
    "plt.subplot(3,2,5)\n",
    "sns.boxplot(data['QC'])\n",
    "plt.xticks(rotation=90)\n",
    "plt.show()"
   ]
  },
  {
   "cell_type": "markdown",
   "id": "f7676f42",
   "metadata": {},
   "source": [
    "# Feature Scaling:"
   ]
  },
  {
   "cell_type": "code",
   "execution_count": 21,
   "id": "3a5c128c",
   "metadata": {},
   "outputs": [],
   "source": [
    "from sklearn.preprocessing import MinMaxScaler\n",
    "from sklearn.model_selection import train_test_split\n",
    "\n",
    "scaler=MinMaxScaler()\n",
    "\n",
    "#Dividing the data into train and test data using train_test_split from sklearn\n",
    "df_train,df_test=train_test_split(data,train_size=0.7,random_state=100)"
   ]
  },
  {
   "cell_type": "code",
   "execution_count": 22,
   "id": "e931f981",
   "metadata": {},
   "outputs": [],
   "source": [
    "col=list(df_train.columns)\n",
    "df_train[col]=scaler.fit_transform(df_train[col])\n",
    "df_test[col]=scaler.transform(df_test[col])"
   ]
  },
  {
   "cell_type": "code",
   "execution_count": 23,
   "id": "34f28a2c",
   "metadata": {},
   "outputs": [],
   "source": [
    "X_train = df_train.drop(['Swirr'],axis=1)\n",
    "y_train = df_train.Swirr\n",
    "X_test = df_test.drop(['Swirr'],axis=1)\n",
    "y_test = df_test.Swirr   "
   ]
  },
  {
   "cell_type": "code",
   "execution_count": 24,
   "id": "b76d5c77",
   "metadata": {},
   "outputs": [
    {
     "data": {
      "text/html": [
       "<div>\n",
       "<style scoped>\n",
       "    .dataframe tbody tr th:only-of-type {\n",
       "        vertical-align: middle;\n",
       "    }\n",
       "\n",
       "    .dataframe tbody tr th {\n",
       "        vertical-align: top;\n",
       "    }\n",
       "\n",
       "    .dataframe thead th {\n",
       "        text-align: right;\n",
       "    }\n",
       "</style>\n",
       "<table border=\"1\" class=\"dataframe\">\n",
       "  <thead>\n",
       "    <tr style=\"text-align: right;\">\n",
       "      <th></th>\n",
       "      <th>Depth</th>\n",
       "      <th>TOC</th>\n",
       "      <th>Calcite</th>\n",
       "      <th>Porosity</th>\n",
       "      <th>Quartz</th>\n",
       "      <th>TOC1</th>\n",
       "      <th>Mineral</th>\n",
       "      <th>Wat_Per</th>\n",
       "      <th>TOC_Per</th>\n",
       "      <th>QC</th>\n",
       "      <th>PS</th>\n",
       "      <th>S2</th>\n",
       "      <th>TOC3</th>\n",
       "      <th>PS2</th>\n",
       "      <th>PS3</th>\n",
       "      <th>PS4</th>\n",
       "    </tr>\n",
       "  </thead>\n",
       "  <tbody>\n",
       "    <tr>\n",
       "      <th>167</th>\n",
       "      <td>0.888595</td>\n",
       "      <td>0.766415</td>\n",
       "      <td>0.034462</td>\n",
       "      <td>0.742567</td>\n",
       "      <td>0.732489</td>\n",
       "      <td>0.642346</td>\n",
       "      <td>0.488361</td>\n",
       "      <td>0.358357</td>\n",
       "      <td>0.621057</td>\n",
       "      <td>0.180556</td>\n",
       "      <td>0.489364</td>\n",
       "      <td>0.641500</td>\n",
       "      <td>0.442812</td>\n",
       "      <td>0.785420</td>\n",
       "      <td>3.534966e-03</td>\n",
       "      <td>0.858228</td>\n",
       "    </tr>\n",
       "    <tr>\n",
       "      <th>66</th>\n",
       "      <td>0.324955</td>\n",
       "      <td>0.148769</td>\n",
       "      <td>0.760177</td>\n",
       "      <td>0.143040</td>\n",
       "      <td>0.170731</td>\n",
       "      <td>0.013024</td>\n",
       "      <td>0.863400</td>\n",
       "      <td>1.000000</td>\n",
       "      <td>0.328301</td>\n",
       "      <td>1.000000</td>\n",
       "      <td>0.411068</td>\n",
       "      <td>0.483914</td>\n",
       "      <td>0.060649</td>\n",
       "      <td>0.158475</td>\n",
       "      <td>7.493879e-10</td>\n",
       "      <td>0.180196</td>\n",
       "    </tr>\n",
       "    <tr>\n",
       "      <th>75</th>\n",
       "      <td>0.367703</td>\n",
       "      <td>0.782576</td>\n",
       "      <td>0.005673</td>\n",
       "      <td>0.707657</td>\n",
       "      <td>0.644345</td>\n",
       "      <td>0.671261</td>\n",
       "      <td>0.379686</td>\n",
       "      <td>0.398551</td>\n",
       "      <td>0.660587</td>\n",
       "      <td>0.208253</td>\n",
       "      <td>0.451046</td>\n",
       "      <td>0.699252</td>\n",
       "      <td>0.530343</td>\n",
       "      <td>0.785558</td>\n",
       "      <td>1.187277e-03</td>\n",
       "      <td>0.895931</td>\n",
       "    </tr>\n",
       "    <tr>\n",
       "      <th>90</th>\n",
       "      <td>0.442849</td>\n",
       "      <td>0.550569</td>\n",
       "      <td>0.000000</td>\n",
       "      <td>0.881983</td>\n",
       "      <td>0.711794</td>\n",
       "      <td>0.317029</td>\n",
       "      <td>0.430315</td>\n",
       "      <td>0.083035</td>\n",
       "      <td>0.383799</td>\n",
       "      <td>0.165117</td>\n",
       "      <td>0.885301</td>\n",
       "      <td>0.125967</td>\n",
       "      <td>0.336131</td>\n",
       "      <td>0.398903</td>\n",
       "      <td>1.000000e+00</td>\n",
       "      <td>0.204551</td>\n",
       "    </tr>\n",
       "    <tr>\n",
       "      <th>82</th>\n",
       "      <td>0.403369</td>\n",
       "      <td>0.560461</td>\n",
       "      <td>0.036940</td>\n",
       "      <td>0.705063</td>\n",
       "      <td>0.579933</td>\n",
       "      <td>0.329462</td>\n",
       "      <td>0.361692</td>\n",
       "      <td>0.160541</td>\n",
       "      <td>0.471143</td>\n",
       "      <td>0.269921</td>\n",
       "      <td>0.784610</td>\n",
       "      <td>0.177916</td>\n",
       "      <td>0.387558</td>\n",
       "      <td>0.380049</td>\n",
       "      <td>1.873977e-01</td>\n",
       "      <td>0.230976</td>\n",
       "    </tr>\n",
       "  </tbody>\n",
       "</table>\n",
       "</div>"
      ],
      "text/plain": [
       "        Depth       TOC   Calcite  Porosity    Quartz      TOC1   Mineral  \\\n",
       "167  0.888595  0.766415  0.034462  0.742567  0.732489  0.642346  0.488361   \n",
       "66   0.324955  0.148769  0.760177  0.143040  0.170731  0.013024  0.863400   \n",
       "75   0.367703  0.782576  0.005673  0.707657  0.644345  0.671261  0.379686   \n",
       "90   0.442849  0.550569  0.000000  0.881983  0.711794  0.317029  0.430315   \n",
       "82   0.403369  0.560461  0.036940  0.705063  0.579933  0.329462  0.361692   \n",
       "\n",
       "      Wat_Per   TOC_Per        QC        PS        S2      TOC3       PS2  \\\n",
       "167  0.358357  0.621057  0.180556  0.489364  0.641500  0.442812  0.785420   \n",
       "66   1.000000  0.328301  1.000000  0.411068  0.483914  0.060649  0.158475   \n",
       "75   0.398551  0.660587  0.208253  0.451046  0.699252  0.530343  0.785558   \n",
       "90   0.083035  0.383799  0.165117  0.885301  0.125967  0.336131  0.398903   \n",
       "82   0.160541  0.471143  0.269921  0.784610  0.177916  0.387558  0.380049   \n",
       "\n",
       "              PS3       PS4  \n",
       "167  3.534966e-03  0.858228  \n",
       "66   7.493879e-10  0.180196  \n",
       "75   1.187277e-03  0.895931  \n",
       "90   1.000000e+00  0.204551  \n",
       "82   1.873977e-01  0.230976  "
      ]
     },
     "execution_count": 24,
     "metadata": {},
     "output_type": "execute_result"
    }
   ],
   "source": [
    "X_train.head()"
   ]
  },
  {
   "cell_type": "code",
   "execution_count": 25,
   "id": "f84a85cc",
   "metadata": {},
   "outputs": [
    {
     "data": {
      "text/html": [
       "<div>\n",
       "<style scoped>\n",
       "    .dataframe tbody tr th:only-of-type {\n",
       "        vertical-align: middle;\n",
       "    }\n",
       "\n",
       "    .dataframe tbody tr th {\n",
       "        vertical-align: top;\n",
       "    }\n",
       "\n",
       "    .dataframe thead th {\n",
       "        text-align: right;\n",
       "    }\n",
       "</style>\n",
       "<table border=\"1\" class=\"dataframe\">\n",
       "  <thead>\n",
       "    <tr style=\"text-align: right;\">\n",
       "      <th></th>\n",
       "      <th>Depth</th>\n",
       "      <th>TOC</th>\n",
       "      <th>Calcite</th>\n",
       "      <th>Porosity</th>\n",
       "      <th>Quartz</th>\n",
       "      <th>TOC1</th>\n",
       "      <th>Mineral</th>\n",
       "      <th>Wat_Per</th>\n",
       "      <th>TOC_Per</th>\n",
       "      <th>QC</th>\n",
       "      <th>PS</th>\n",
       "      <th>S2</th>\n",
       "      <th>TOC3</th>\n",
       "      <th>PS2</th>\n",
       "      <th>PS3</th>\n",
       "      <th>PS4</th>\n",
       "    </tr>\n",
       "  </thead>\n",
       "  <tbody>\n",
       "    <tr>\n",
       "      <th>163</th>\n",
       "      <td>0.861044</td>\n",
       "      <td>0.493180</td>\n",
       "      <td>0.000000</td>\n",
       "      <td>0.651241</td>\n",
       "      <td>0.488144</td>\n",
       "      <td>0.249588</td>\n",
       "      <td>0.240350</td>\n",
       "      <td>0.101859</td>\n",
       "      <td>0.440892</td>\n",
       "      <td>0.293250</td>\n",
       "      <td>0.870476</td>\n",
       "      <td>0.085133</td>\n",
       "      <td>0.424555</td>\n",
       "      <td>0.237770</td>\n",
       "      <td>5.730553e-01</td>\n",
       "      <td>0.104548</td>\n",
       "    </tr>\n",
       "    <tr>\n",
       "      <th>78</th>\n",
       "      <td>0.384020</td>\n",
       "      <td>0.678394</td>\n",
       "      <td>0.034275</td>\n",
       "      <td>0.154778</td>\n",
       "      <td>0.413309</td>\n",
       "      <td>0.496011</td>\n",
       "      <td>0.217034</td>\n",
       "      <td>1.000000</td>\n",
       "      <td>1.000000</td>\n",
       "      <td>0.363271</td>\n",
       "      <td>0.403329</td>\n",
       "      <td>0.502857</td>\n",
       "      <td>0.683506</td>\n",
       "      <td>0.172913</td>\n",
       "      <td>8.865684e-10</td>\n",
       "      <td>0.197171</td>\n",
       "    </tr>\n",
       "    <tr>\n",
       "      <th>11</th>\n",
       "      <td>0.055300</td>\n",
       "      <td>0.643722</td>\n",
       "      <td>0.138474</td>\n",
       "      <td>0.741652</td>\n",
       "      <td>0.683503</td>\n",
       "      <td>0.443537</td>\n",
       "      <td>0.568892</td>\n",
       "      <td>0.288769</td>\n",
       "      <td>0.520479</td>\n",
       "      <td>0.291005</td>\n",
       "      <td>0.591281</td>\n",
       "      <td>0.456028</td>\n",
       "      <td>0.335849</td>\n",
       "      <td>0.655862</td>\n",
       "      <td>1.494322e-02</td>\n",
       "      <td>0.611169</td>\n",
       "    </tr>\n",
       "    <tr>\n",
       "      <th>160</th>\n",
       "      <td>0.845981</td>\n",
       "      <td>0.419918</td>\n",
       "      <td>0.093365</td>\n",
       "      <td>0.455782</td>\n",
       "      <td>0.489285</td>\n",
       "      <td>0.175127</td>\n",
       "      <td>0.350955</td>\n",
       "      <td>0.167011</td>\n",
       "      <td>0.495115</td>\n",
       "      <td>0.366546</td>\n",
       "      <td>0.821930</td>\n",
       "      <td>0.081363</td>\n",
       "      <td>0.302781</td>\n",
       "      <td>0.157161</td>\n",
       "      <td>1.034639e-01</td>\n",
       "      <td>0.069984</td>\n",
       "    </tr>\n",
       "    <tr>\n",
       "      <th>166</th>\n",
       "      <td>0.884158</td>\n",
       "      <td>0.512884</td>\n",
       "      <td>0.144822</td>\n",
       "      <td>0.337818</td>\n",
       "      <td>0.328827</td>\n",
       "      <td>0.271841</td>\n",
       "      <td>0.275088</td>\n",
       "      <td>0.461951</td>\n",
       "      <td>0.766201</td>\n",
       "      <td>0.499231</td>\n",
       "      <td>0.617969</td>\n",
       "      <td>0.255164</td>\n",
       "      <td>0.435755</td>\n",
       "      <td>0.225438</td>\n",
       "      <td>1.656026e-04</td>\n",
       "      <td>0.172991</td>\n",
       "    </tr>\n",
       "  </tbody>\n",
       "</table>\n",
       "</div>"
      ],
      "text/plain": [
       "        Depth       TOC   Calcite  Porosity    Quartz      TOC1   Mineral  \\\n",
       "163  0.861044  0.493180  0.000000  0.651241  0.488144  0.249588  0.240350   \n",
       "78   0.384020  0.678394  0.034275  0.154778  0.413309  0.496011  0.217034   \n",
       "11   0.055300  0.643722  0.138474  0.741652  0.683503  0.443537  0.568892   \n",
       "160  0.845981  0.419918  0.093365  0.455782  0.489285  0.175127  0.350955   \n",
       "166  0.884158  0.512884  0.144822  0.337818  0.328827  0.271841  0.275088   \n",
       "\n",
       "      Wat_Per   TOC_Per        QC        PS        S2      TOC3       PS2  \\\n",
       "163  0.101859  0.440892  0.293250  0.870476  0.085133  0.424555  0.237770   \n",
       "78   1.000000  1.000000  0.363271  0.403329  0.502857  0.683506  0.172913   \n",
       "11   0.288769  0.520479  0.291005  0.591281  0.456028  0.335849  0.655862   \n",
       "160  0.167011  0.495115  0.366546  0.821930  0.081363  0.302781  0.157161   \n",
       "166  0.461951  0.766201  0.499231  0.617969  0.255164  0.435755  0.225438   \n",
       "\n",
       "              PS3       PS4  \n",
       "163  5.730553e-01  0.104548  \n",
       "78   8.865684e-10  0.197171  \n",
       "11   1.494322e-02  0.611169  \n",
       "160  1.034639e-01  0.069984  \n",
       "166  1.656026e-04  0.172991  "
      ]
     },
     "execution_count": 25,
     "metadata": {},
     "output_type": "execute_result"
    }
   ],
   "source": [
    "X_test.head()"
   ]
  },
  {
   "cell_type": "code",
   "execution_count": 26,
   "id": "490e82ab",
   "metadata": {},
   "outputs": [
    {
     "data": {
      "text/plain": [
       "167    0.640652\n",
       "66     0.542952\n",
       "75     0.673466\n",
       "90     0.232571\n",
       "82     0.292227\n",
       "Name: Swirr, dtype: float64"
      ]
     },
     "execution_count": 26,
     "metadata": {},
     "output_type": "execute_result"
    }
   ],
   "source": [
    "y_train.head()"
   ]
  },
  {
   "cell_type": "code",
   "execution_count": 27,
   "id": "6addfe04",
   "metadata": {
    "scrolled": true
   },
   "outputs": [
    {
     "data": {
      "text/plain": [
       "163    0.177509\n",
       "78     0.555439\n",
       "11     0.524131\n",
       "160    0.171910\n",
       "166    0.367733\n",
       "Name: Swirr, dtype: float64"
      ]
     },
     "execution_count": 27,
     "metadata": {},
     "output_type": "execute_result"
    }
   ],
   "source": [
    "y_test.head()"
   ]
  },
  {
   "cell_type": "markdown",
   "id": "9f62f616",
   "metadata": {},
   "source": [
    "# Model Building:"
   ]
  },
  {
   "cell_type": "markdown",
   "id": "34bc001c",
   "metadata": {},
   "source": [
    "## SVM -1 :"
   ]
  },
  {
   "cell_type": "code",
   "execution_count": 28,
   "id": "14d2ea1e",
   "metadata": {},
   "outputs": [],
   "source": [
    "from sklearn.svm import SVR\n",
    "from sklearn.metrics import r2_score\n",
    "svm= SVR(kernel='poly',degree=2)"
   ]
  },
  {
   "cell_type": "code",
   "execution_count": 29,
   "id": "cfff517f",
   "metadata": {
    "scrolled": false
   },
   "outputs": [
    {
     "data": {
      "text/plain": [
       "{'C': 1.0,\n",
       " 'cache_size': 200,\n",
       " 'coef0': 0.0,\n",
       " 'degree': 2,\n",
       " 'epsilon': 0.1,\n",
       " 'gamma': 'scale',\n",
       " 'kernel': 'poly',\n",
       " 'max_iter': -1,\n",
       " 'shrinking': True,\n",
       " 'tol': 0.001,\n",
       " 'verbose': False}"
      ]
     },
     "execution_count": 29,
     "metadata": {},
     "output_type": "execute_result"
    }
   ],
   "source": [
    "svm.get_params()"
   ]
  },
  {
   "cell_type": "code",
   "execution_count": 30,
   "id": "7118d120",
   "metadata": {},
   "outputs": [
    {
     "data": {
      "text/plain": [
       "SVR(degree=2, kernel='poly')"
      ]
     },
     "execution_count": 30,
     "metadata": {},
     "output_type": "execute_result"
    }
   ],
   "source": [
    "svm.fit(X_train,y_train)"
   ]
  },
  {
   "cell_type": "code",
   "execution_count": 31,
   "id": "b1875420",
   "metadata": {},
   "outputs": [
    {
     "data": {
      "text/plain": [
       "0.9456714225293219"
      ]
     },
     "execution_count": 31,
     "metadata": {},
     "output_type": "execute_result"
    }
   ],
   "source": [
    "svm.score(X_train,y_train)    # r2 score"
   ]
  },
  {
   "cell_type": "markdown",
   "id": "3ed2547f",
   "metadata": {},
   "source": [
    "### Test set results:"
   ]
  },
  {
   "cell_type": "code",
   "execution_count": 32,
   "id": "754656a0",
   "metadata": {},
   "outputs": [],
   "source": [
    "y_pred=svm.predict(X_test)"
   ]
  },
  {
   "cell_type": "code",
   "execution_count": 33,
   "id": "0ab5a7ff",
   "metadata": {},
   "outputs": [
    {
     "data": {
      "text/plain": [
       "0.9343091914483613"
      ]
     },
     "execution_count": 33,
     "metadata": {},
     "output_type": "execute_result"
    }
   ],
   "source": [
    "r2_score(y_test,y_pred)     # r2 score"
   ]
  },
  {
   "cell_type": "markdown",
   "id": "da107f36",
   "metadata": {},
   "source": [
    "### SVM -2"
   ]
  },
  {
   "cell_type": "code",
   "execution_count": 34,
   "id": "4aef3a79",
   "metadata": {},
   "outputs": [],
   "source": [
    "from sklearn.svm import SVR\n",
    "svm2= SVR(kernel='rbf')"
   ]
  },
  {
   "cell_type": "code",
   "execution_count": 35,
   "id": "579745b2",
   "metadata": {},
   "outputs": [
    {
     "data": {
      "text/plain": [
       "{'C': 1.0,\n",
       " 'cache_size': 200,\n",
       " 'coef0': 0.0,\n",
       " 'degree': 3,\n",
       " 'epsilon': 0.1,\n",
       " 'gamma': 'scale',\n",
       " 'kernel': 'rbf',\n",
       " 'max_iter': -1,\n",
       " 'shrinking': True,\n",
       " 'tol': 0.001,\n",
       " 'verbose': False}"
      ]
     },
     "execution_count": 35,
     "metadata": {},
     "output_type": "execute_result"
    }
   ],
   "source": [
    "svm2.get_params()"
   ]
  },
  {
   "cell_type": "code",
   "execution_count": 36,
   "id": "1082c51c",
   "metadata": {},
   "outputs": [
    {
     "data": {
      "text/plain": [
       "SVR()"
      ]
     },
     "execution_count": 36,
     "metadata": {},
     "output_type": "execute_result"
    }
   ],
   "source": [
    "svm2.fit(X_train,y_train)"
   ]
  },
  {
   "cell_type": "code",
   "execution_count": 37,
   "id": "9f49dbea",
   "metadata": {},
   "outputs": [
    {
     "data": {
      "text/plain": [
       "0.9543511656980816"
      ]
     },
     "execution_count": 37,
     "metadata": {},
     "output_type": "execute_result"
    }
   ],
   "source": [
    "svm2.score(X_train,y_train)    # r2 score"
   ]
  },
  {
   "cell_type": "markdown",
   "id": "7a7cdc27",
   "metadata": {},
   "source": [
    "### Test set results:"
   ]
  },
  {
   "cell_type": "code",
   "execution_count": 38,
   "id": "762c9f9c",
   "metadata": {},
   "outputs": [],
   "source": [
    "y_pred=svm2.predict(X_test)"
   ]
  },
  {
   "cell_type": "code",
   "execution_count": 39,
   "id": "a2b7a993",
   "metadata": {},
   "outputs": [
    {
     "data": {
      "text/plain": [
       "0.8535396409818159"
      ]
     },
     "execution_count": 39,
     "metadata": {},
     "output_type": "execute_result"
    }
   ],
   "source": [
    "r2_score(y_test, y_pred)   # r2 score"
   ]
  },
  {
   "cell_type": "markdown",
   "id": "3f6a5e6c",
   "metadata": {},
   "source": [
    "## Gradient Boosting:"
   ]
  },
  {
   "cell_type": "code",
   "execution_count": 40,
   "id": "18d76a13",
   "metadata": {},
   "outputs": [],
   "source": [
    "from sklearn.ensemble import GradientBoostingRegressor\n",
    "gbr = GradientBoostingRegressor() "
   ]
  },
  {
   "cell_type": "code",
   "execution_count": 41,
   "id": "6f02b208",
   "metadata": {
    "scrolled": true
   },
   "outputs": [
    {
     "data": {
      "text/plain": [
       "{'alpha': 0.9,\n",
       " 'ccp_alpha': 0.0,\n",
       " 'criterion': 'friedman_mse',\n",
       " 'init': None,\n",
       " 'learning_rate': 0.1,\n",
       " 'loss': 'squared_error',\n",
       " 'max_depth': 3,\n",
       " 'max_features': None,\n",
       " 'max_leaf_nodes': None,\n",
       " 'min_impurity_decrease': 0.0,\n",
       " 'min_samples_leaf': 1,\n",
       " 'min_samples_split': 2,\n",
       " 'min_weight_fraction_leaf': 0.0,\n",
       " 'n_estimators': 100,\n",
       " 'n_iter_no_change': None,\n",
       " 'random_state': None,\n",
       " 'subsample': 1.0,\n",
       " 'tol': 0.0001,\n",
       " 'validation_fraction': 0.1,\n",
       " 'verbose': 0,\n",
       " 'warm_start': False}"
      ]
     },
     "execution_count": 41,
     "metadata": {},
     "output_type": "execute_result"
    }
   ],
   "source": [
    "gbr.get_params()"
   ]
  },
  {
   "cell_type": "code",
   "execution_count": 42,
   "id": "18fee4d4",
   "metadata": {
    "scrolled": true
   },
   "outputs": [
    {
     "data": {
      "text/plain": [
       "GradientBoostingRegressor()"
      ]
     },
     "execution_count": 42,
     "metadata": {},
     "output_type": "execute_result"
    }
   ],
   "source": [
    "gbr.fit(X_train, y_train)"
   ]
  },
  {
   "cell_type": "code",
   "execution_count": 43,
   "id": "4b636bd7",
   "metadata": {},
   "outputs": [
    {
     "data": {
      "text/plain": [
       "0.9999983670296115"
      ]
     },
     "execution_count": 43,
     "metadata": {},
     "output_type": "execute_result"
    }
   ],
   "source": [
    "gbr.score(X_train, y_train)"
   ]
  },
  {
   "cell_type": "markdown",
   "id": "41eb93ce",
   "metadata": {},
   "source": [
    "### Test set results:"
   ]
  },
  {
   "cell_type": "code",
   "execution_count": 44,
   "id": "006ce0a6",
   "metadata": {},
   "outputs": [],
   "source": [
    "y_pred=gbr.predict(X_test)"
   ]
  },
  {
   "cell_type": "code",
   "execution_count": 45,
   "id": "4b967278",
   "metadata": {
    "scrolled": true
   },
   "outputs": [
    {
     "data": {
      "text/plain": [
       "0.9990859894901963"
      ]
     },
     "execution_count": 45,
     "metadata": {},
     "output_type": "execute_result"
    }
   ],
   "source": [
    "r2_score(y_test, y_pred)"
   ]
  },
  {
   "cell_type": "markdown",
   "id": "e8393033",
   "metadata": {},
   "source": [
    "## Random Forest Regressor:"
   ]
  },
  {
   "cell_type": "code",
   "execution_count": 46,
   "id": "408fd0a6",
   "metadata": {},
   "outputs": [],
   "source": [
    "from sklearn.ensemble import RandomForestRegressor\n",
    "rf = RandomForestRegressor () "
   ]
  },
  {
   "cell_type": "code",
   "execution_count": 47,
   "id": "149aca0c",
   "metadata": {},
   "outputs": [
    {
     "data": {
      "text/plain": [
       "{'bootstrap': True,\n",
       " 'ccp_alpha': 0.0,\n",
       " 'criterion': 'squared_error',\n",
       " 'max_depth': None,\n",
       " 'max_features': 'auto',\n",
       " 'max_leaf_nodes': None,\n",
       " 'max_samples': None,\n",
       " 'min_impurity_decrease': 0.0,\n",
       " 'min_samples_leaf': 1,\n",
       " 'min_samples_split': 2,\n",
       " 'min_weight_fraction_leaf': 0.0,\n",
       " 'n_estimators': 100,\n",
       " 'n_jobs': None,\n",
       " 'oob_score': False,\n",
       " 'random_state': None,\n",
       " 'verbose': 0,\n",
       " 'warm_start': False}"
      ]
     },
     "execution_count": 47,
     "metadata": {},
     "output_type": "execute_result"
    }
   ],
   "source": [
    "rf.get_params()"
   ]
  },
  {
   "cell_type": "code",
   "execution_count": 48,
   "id": "49f55232",
   "metadata": {},
   "outputs": [
    {
     "data": {
      "text/plain": [
       "RandomForestRegressor()"
      ]
     },
     "execution_count": 48,
     "metadata": {},
     "output_type": "execute_result"
    }
   ],
   "source": [
    "rf.fit(X_train, y_train)"
   ]
  },
  {
   "cell_type": "code",
   "execution_count": 49,
   "id": "8dd9ccb1",
   "metadata": {},
   "outputs": [
    {
     "data": {
      "text/plain": [
       "0.9996689363821132"
      ]
     },
     "execution_count": 49,
     "metadata": {},
     "output_type": "execute_result"
    }
   ],
   "source": [
    "rf.score(X_train, y_train)"
   ]
  },
  {
   "cell_type": "markdown",
   "id": "e13a290e",
   "metadata": {},
   "source": [
    "### Test set results:"
   ]
  },
  {
   "cell_type": "code",
   "execution_count": 50,
   "id": "17f9409d",
   "metadata": {},
   "outputs": [],
   "source": [
    "y_pred=rf.predict(X_test)"
   ]
  },
  {
   "cell_type": "code",
   "execution_count": 51,
   "id": "a8857827",
   "metadata": {},
   "outputs": [
    {
     "data": {
      "text/plain": [
       "0.9973568645904242"
      ]
     },
     "execution_count": 51,
     "metadata": {},
     "output_type": "execute_result"
    }
   ],
   "source": [
    "r2_score(y_test, y_pred)"
   ]
  },
  {
   "cell_type": "markdown",
   "id": "82702ba6",
   "metadata": {},
   "source": [
    "# Dimensionality Reduction:"
   ]
  },
  {
   "cell_type": "code",
   "execution_count": 52,
   "id": "05ab7b4b",
   "metadata": {},
   "outputs": [
    {
     "data": {
      "image/png": "[encoded data removed]",
      "text/plain": [
       "<Figure size 1440x864 with 2 Axes>"
      ]
     },
     "metadata": {
      "needs_background": "light"
     },
     "output_type": "display_data"
    }
   ],
   "source": [
    "plt.figure(figsize=[20,12])\n",
    "sns.heatmap(data.drop('Swirr',axis=1).corr(),annot=True,cmap='Greens',cbar=True)\n",
    "plt.show()"
   ]
  },
  {
   "cell_type": "code",
   "execution_count": 53,
   "id": "dbdcccb0",
   "metadata": {},
   "outputs": [
    {
     "data": {
      "text/html": [
       "<div>\n",
       "<style scoped>\n",
       "    .dataframe tbody tr th:only-of-type {\n",
       "        vertical-align: middle;\n",
       "    }\n",
       "\n",
       "    .dataframe tbody tr th {\n",
       "        vertical-align: top;\n",
       "    }\n",
       "\n",
       "    .dataframe thead th {\n",
       "        text-align: right;\n",
       "    }\n",
       "</style>\n",
       "<table border=\"1\" class=\"dataframe\">\n",
       "  <thead>\n",
       "    <tr style=\"text-align: right;\">\n",
       "      <th></th>\n",
       "      <th>Depth</th>\n",
       "      <th>TOC</th>\n",
       "      <th>Calcite</th>\n",
       "      <th>Porosity</th>\n",
       "      <th>Quartz</th>\n",
       "      <th>TOC1</th>\n",
       "      <th>Mineral</th>\n",
       "      <th>Wat_Per</th>\n",
       "      <th>TOC_Per</th>\n",
       "      <th>QC</th>\n",
       "      <th>PS</th>\n",
       "      <th>S2</th>\n",
       "      <th>TOC3</th>\n",
       "      <th>PS2</th>\n",
       "      <th>PS3</th>\n",
       "      <th>PS4</th>\n",
       "    </tr>\n",
       "  </thead>\n",
       "  <tbody>\n",
       "    <tr>\n",
       "      <th>Depth</th>\n",
       "      <td>1.0</td>\n",
       "      <td>NaN</td>\n",
       "      <td>NaN</td>\n",
       "      <td>NaN</td>\n",
       "      <td>NaN</td>\n",
       "      <td>NaN</td>\n",
       "      <td>NaN</td>\n",
       "      <td>NaN</td>\n",
       "      <td>NaN</td>\n",
       "      <td>NaN</td>\n",
       "      <td>NaN</td>\n",
       "      <td>NaN</td>\n",
       "      <td>NaN</td>\n",
       "      <td>NaN</td>\n",
       "      <td>NaN</td>\n",
       "      <td>NaN</td>\n",
       "    </tr>\n",
       "    <tr>\n",
       "      <th>TOC</th>\n",
       "      <td>NaN</td>\n",
       "      <td>1.000000</td>\n",
       "      <td>NaN</td>\n",
       "      <td>NaN</td>\n",
       "      <td>NaN</td>\n",
       "      <td>0.968645</td>\n",
       "      <td>NaN</td>\n",
       "      <td>NaN</td>\n",
       "      <td>NaN</td>\n",
       "      <td>NaN</td>\n",
       "      <td>NaN</td>\n",
       "      <td>NaN</td>\n",
       "      <td>NaN</td>\n",
       "      <td>NaN</td>\n",
       "      <td>NaN</td>\n",
       "      <td>NaN</td>\n",
       "    </tr>\n",
       "    <tr>\n",
       "      <th>Calcite</th>\n",
       "      <td>NaN</td>\n",
       "      <td>NaN</td>\n",
       "      <td>1.000000</td>\n",
       "      <td>NaN</td>\n",
       "      <td>NaN</td>\n",
       "      <td>NaN</td>\n",
       "      <td>NaN</td>\n",
       "      <td>NaN</td>\n",
       "      <td>NaN</td>\n",
       "      <td>0.909009</td>\n",
       "      <td>NaN</td>\n",
       "      <td>NaN</td>\n",
       "      <td>NaN</td>\n",
       "      <td>NaN</td>\n",
       "      <td>NaN</td>\n",
       "      <td>NaN</td>\n",
       "    </tr>\n",
       "    <tr>\n",
       "      <th>Porosity</th>\n",
       "      <td>NaN</td>\n",
       "      <td>NaN</td>\n",
       "      <td>NaN</td>\n",
       "      <td>1.0</td>\n",
       "      <td>NaN</td>\n",
       "      <td>NaN</td>\n",
       "      <td>NaN</td>\n",
       "      <td>NaN</td>\n",
       "      <td>NaN</td>\n",
       "      <td>NaN</td>\n",
       "      <td>NaN</td>\n",
       "      <td>NaN</td>\n",
       "      <td>NaN</td>\n",
       "      <td>NaN</td>\n",
       "      <td>NaN</td>\n",
       "      <td>NaN</td>\n",
       "    </tr>\n",
       "    <tr>\n",
       "      <th>Quartz</th>\n",
       "      <td>NaN</td>\n",
       "      <td>NaN</td>\n",
       "      <td>NaN</td>\n",
       "      <td>NaN</td>\n",
       "      <td>1.0</td>\n",
       "      <td>NaN</td>\n",
       "      <td>NaN</td>\n",
       "      <td>NaN</td>\n",
       "      <td>NaN</td>\n",
       "      <td>NaN</td>\n",
       "      <td>NaN</td>\n",
       "      <td>NaN</td>\n",
       "      <td>NaN</td>\n",
       "      <td>NaN</td>\n",
       "      <td>NaN</td>\n",
       "      <td>NaN</td>\n",
       "    </tr>\n",
       "    <tr>\n",
       "      <th>TOC1</th>\n",
       "      <td>NaN</td>\n",
       "      <td>0.968645</td>\n",
       "      <td>NaN</td>\n",
       "      <td>NaN</td>\n",
       "      <td>NaN</td>\n",
       "      <td>1.000000</td>\n",
       "      <td>NaN</td>\n",
       "      <td>NaN</td>\n",
       "      <td>NaN</td>\n",
       "      <td>NaN</td>\n",
       "      <td>NaN</td>\n",
       "      <td>NaN</td>\n",
       "      <td>NaN</td>\n",
       "      <td>NaN</td>\n",
       "      <td>NaN</td>\n",
       "      <td>NaN</td>\n",
       "    </tr>\n",
       "    <tr>\n",
       "      <th>Mineral</th>\n",
       "      <td>NaN</td>\n",
       "      <td>NaN</td>\n",
       "      <td>NaN</td>\n",
       "      <td>NaN</td>\n",
       "      <td>NaN</td>\n",
       "      <td>NaN</td>\n",
       "      <td>1.0</td>\n",
       "      <td>NaN</td>\n",
       "      <td>NaN</td>\n",
       "      <td>NaN</td>\n",
       "      <td>NaN</td>\n",
       "      <td>NaN</td>\n",
       "      <td>NaN</td>\n",
       "      <td>NaN</td>\n",
       "      <td>NaN</td>\n",
       "      <td>NaN</td>\n",
       "    </tr>\n",
       "    <tr>\n",
       "      <th>Wat_Per</th>\n",
       "      <td>NaN</td>\n",
       "      <td>NaN</td>\n",
       "      <td>NaN</td>\n",
       "      <td>NaN</td>\n",
       "      <td>NaN</td>\n",
       "      <td>NaN</td>\n",
       "      <td>NaN</td>\n",
       "      <td>1.0</td>\n",
       "      <td>NaN</td>\n",
       "      <td>NaN</td>\n",
       "      <td>NaN</td>\n",
       "      <td>NaN</td>\n",
       "      <td>NaN</td>\n",
       "      <td>NaN</td>\n",
       "      <td>NaN</td>\n",
       "      <td>NaN</td>\n",
       "    </tr>\n",
       "    <tr>\n",
       "      <th>TOC_Per</th>\n",
       "      <td>NaN</td>\n",
       "      <td>NaN</td>\n",
       "      <td>NaN</td>\n",
       "      <td>NaN</td>\n",
       "      <td>NaN</td>\n",
       "      <td>NaN</td>\n",
       "      <td>NaN</td>\n",
       "      <td>NaN</td>\n",
       "      <td>1.0</td>\n",
       "      <td>NaN</td>\n",
       "      <td>NaN</td>\n",
       "      <td>NaN</td>\n",
       "      <td>NaN</td>\n",
       "      <td>NaN</td>\n",
       "      <td>NaN</td>\n",
       "      <td>NaN</td>\n",
       "    </tr>\n",
       "    <tr>\n",
       "      <th>QC</th>\n",
       "      <td>NaN</td>\n",
       "      <td>NaN</td>\n",
       "      <td>0.909009</td>\n",
       "      <td>NaN</td>\n",
       "      <td>NaN</td>\n",
       "      <td>NaN</td>\n",
       "      <td>NaN</td>\n",
       "      <td>NaN</td>\n",
       "      <td>NaN</td>\n",
       "      <td>1.000000</td>\n",
       "      <td>NaN</td>\n",
       "      <td>NaN</td>\n",
       "      <td>NaN</td>\n",
       "      <td>NaN</td>\n",
       "      <td>NaN</td>\n",
       "      <td>NaN</td>\n",
       "    </tr>\n",
       "    <tr>\n",
       "      <th>PS</th>\n",
       "      <td>NaN</td>\n",
       "      <td>NaN</td>\n",
       "      <td>NaN</td>\n",
       "      <td>NaN</td>\n",
       "      <td>NaN</td>\n",
       "      <td>NaN</td>\n",
       "      <td>NaN</td>\n",
       "      <td>NaN</td>\n",
       "      <td>NaN</td>\n",
       "      <td>NaN</td>\n",
       "      <td>1.0</td>\n",
       "      <td>NaN</td>\n",
       "      <td>NaN</td>\n",
       "      <td>NaN</td>\n",
       "      <td>NaN</td>\n",
       "      <td>NaN</td>\n",
       "    </tr>\n",
       "    <tr>\n",
       "      <th>S2</th>\n",
       "      <td>NaN</td>\n",
       "      <td>NaN</td>\n",
       "      <td>NaN</td>\n",
       "      <td>NaN</td>\n",
       "      <td>NaN</td>\n",
       "      <td>NaN</td>\n",
       "      <td>NaN</td>\n",
       "      <td>NaN</td>\n",
       "      <td>NaN</td>\n",
       "      <td>NaN</td>\n",
       "      <td>NaN</td>\n",
       "      <td>1.0</td>\n",
       "      <td>NaN</td>\n",
       "      <td>NaN</td>\n",
       "      <td>NaN</td>\n",
       "      <td>NaN</td>\n",
       "    </tr>\n",
       "    <tr>\n",
       "      <th>TOC3</th>\n",
       "      <td>NaN</td>\n",
       "      <td>NaN</td>\n",
       "      <td>NaN</td>\n",
       "      <td>NaN</td>\n",
       "      <td>NaN</td>\n",
       "      <td>NaN</td>\n",
       "      <td>NaN</td>\n",
       "      <td>NaN</td>\n",
       "      <td>NaN</td>\n",
       "      <td>NaN</td>\n",
       "      <td>NaN</td>\n",
       "      <td>NaN</td>\n",
       "      <td>1.0</td>\n",
       "      <td>NaN</td>\n",
       "      <td>NaN</td>\n",
       "      <td>NaN</td>\n",
       "    </tr>\n",
       "    <tr>\n",
       "      <th>PS2</th>\n",
       "      <td>NaN</td>\n",
       "      <td>NaN</td>\n",
       "      <td>NaN</td>\n",
       "      <td>NaN</td>\n",
       "      <td>NaN</td>\n",
       "      <td>NaN</td>\n",
       "      <td>NaN</td>\n",
       "      <td>NaN</td>\n",
       "      <td>NaN</td>\n",
       "      <td>NaN</td>\n",
       "      <td>NaN</td>\n",
       "      <td>NaN</td>\n",
       "      <td>NaN</td>\n",
       "      <td>1.000000</td>\n",
       "      <td>NaN</td>\n",
       "      <td>0.935053</td>\n",
       "    </tr>\n",
       "    <tr>\n",
       "      <th>PS3</th>\n",
       "      <td>NaN</td>\n",
       "      <td>NaN</td>\n",
       "      <td>NaN</td>\n",
       "      <td>NaN</td>\n",
       "      <td>NaN</td>\n",
       "      <td>NaN</td>\n",
       "      <td>NaN</td>\n",
       "      <td>NaN</td>\n",
       "      <td>NaN</td>\n",
       "      <td>NaN</td>\n",
       "      <td>NaN</td>\n",
       "      <td>NaN</td>\n",
       "      <td>NaN</td>\n",
       "      <td>NaN</td>\n",
       "      <td>1.0</td>\n",
       "      <td>NaN</td>\n",
       "    </tr>\n",
       "    <tr>\n",
       "      <th>PS4</th>\n",
       "      <td>NaN</td>\n",
       "      <td>NaN</td>\n",
       "      <td>NaN</td>\n",
       "      <td>NaN</td>\n",
       "      <td>NaN</td>\n",
       "      <td>NaN</td>\n",
       "      <td>NaN</td>\n",
       "      <td>NaN</td>\n",
       "      <td>NaN</td>\n",
       "      <td>NaN</td>\n",
       "      <td>NaN</td>\n",
       "      <td>NaN</td>\n",
       "      <td>NaN</td>\n",
       "      <td>0.935053</td>\n",
       "      <td>NaN</td>\n",
       "      <td>1.000000</td>\n",
       "    </tr>\n",
       "  </tbody>\n",
       "</table>\n",
       "</div>"
      ],
      "text/plain": [
       "          Depth       TOC   Calcite  Porosity  Quartz      TOC1  Mineral  \\\n",
       "Depth       1.0       NaN       NaN       NaN     NaN       NaN      NaN   \n",
       "TOC         NaN  1.000000       NaN       NaN     NaN  0.968645      NaN   \n",
       "Calcite     NaN       NaN  1.000000       NaN     NaN       NaN      NaN   \n",
       "Porosity    NaN       NaN       NaN       1.0     NaN       NaN      NaN   \n",
       "Quartz      NaN       NaN       NaN       NaN     1.0       NaN      NaN   \n",
       "TOC1        NaN  0.968645       NaN       NaN     NaN  1.000000      NaN   \n",
       "Mineral     NaN       NaN       NaN       NaN     NaN       NaN      1.0   \n",
       "Wat_Per     NaN       NaN       NaN       NaN     NaN       NaN      NaN   \n",
       "TOC_Per     NaN       NaN       NaN       NaN     NaN       NaN      NaN   \n",
       "QC          NaN       NaN  0.909009       NaN     NaN       NaN      NaN   \n",
       "PS          NaN       NaN       NaN       NaN     NaN       NaN      NaN   \n",
       "S2          NaN       NaN       NaN       NaN     NaN       NaN      NaN   \n",
       "TOC3        NaN       NaN       NaN       NaN     NaN       NaN      NaN   \n",
       "PS2         NaN       NaN       NaN       NaN     NaN       NaN      NaN   \n",
       "PS3         NaN       NaN       NaN       NaN     NaN       NaN      NaN   \n",
       "PS4         NaN       NaN       NaN       NaN     NaN       NaN      NaN   \n",
       "\n",
       "          Wat_Per  TOC_Per        QC   PS   S2  TOC3       PS2  PS3       PS4  \n",
       "Depth         NaN      NaN       NaN  NaN  NaN   NaN       NaN  NaN       NaN  \n",
       "TOC           NaN      NaN       NaN  NaN  NaN   NaN       NaN  NaN       NaN  \n",
       "Calcite       NaN      NaN  0.909009  NaN  NaN   NaN       NaN  NaN       NaN  \n",
       "Porosity      NaN      NaN       NaN  NaN  NaN   NaN       NaN  NaN       NaN  \n",
       "Quartz        NaN      NaN       NaN  NaN  NaN   NaN       NaN  NaN       NaN  \n",
       "TOC1          NaN      NaN       NaN  NaN  NaN   NaN       NaN  NaN       NaN  \n",
       "Mineral       NaN      NaN       NaN  NaN  NaN   NaN       NaN  NaN       NaN  \n",
       "Wat_Per       1.0      NaN       NaN  NaN  NaN   NaN       NaN  NaN       NaN  \n",
       "TOC_Per       NaN      1.0       NaN  NaN  NaN   NaN       NaN  NaN       NaN  \n",
       "QC            NaN      NaN  1.000000  NaN  NaN   NaN       NaN  NaN       NaN  \n",
       "PS            NaN      NaN       NaN  1.0  NaN   NaN       NaN  NaN       NaN  \n",
       "S2            NaN      NaN       NaN  NaN  1.0   NaN       NaN  NaN       NaN  \n",
       "TOC3          NaN      NaN       NaN  NaN  NaN   1.0       NaN  NaN       NaN  \n",
       "PS2           NaN      NaN       NaN  NaN  NaN   NaN  1.000000  NaN  0.935053  \n",
       "PS3           NaN      NaN       NaN  NaN  NaN   NaN       NaN  1.0       NaN  \n",
       "PS4           NaN      NaN       NaN  NaN  NaN   NaN  0.935053  NaN  1.000000  "
      ]
     },
     "execution_count": 53,
     "metadata": {},
     "output_type": "execute_result"
    }
   ],
   "source": [
    "data.drop('Swirr',axis=1).corr()[data.drop('Swirr',axis=1).corr()>0.9]"
   ]
  },
  {
   "cell_type": "code",
   "execution_count": 54,
   "id": "9b39b61a",
   "metadata": {},
   "outputs": [],
   "source": [
    "# TOC and TOC1, Calcite and QC , PS2 and PS4 are the independent variable pairs with a correlation of 90% and more.."
   ]
  },
  {
   "cell_type": "code",
   "execution_count": 55,
   "id": "2dbeb7f9",
   "metadata": {},
   "outputs": [],
   "source": [
    "# we can drop one from each pair..\n",
    "\n",
    "X_train.drop(['TOC1','QC','PS2'],axis=1,inplace=True)\n",
    "X_test.drop(['TOC1','QC','PS2'],axis=1,inplace=True)"
   ]
  },
  {
   "cell_type": "code",
   "execution_count": 56,
   "id": "8ee01f47",
   "metadata": {},
   "outputs": [
    {
     "data": {
      "text/html": [
       "<div>\n",
       "<style scoped>\n",
       "    .dataframe tbody tr th:only-of-type {\n",
       "        vertical-align: middle;\n",
       "    }\n",
       "\n",
       "    .dataframe tbody tr th {\n",
       "        vertical-align: top;\n",
       "    }\n",
       "\n",
       "    .dataframe thead th {\n",
       "        text-align: right;\n",
       "    }\n",
       "</style>\n",
       "<table border=\"1\" class=\"dataframe\">\n",
       "  <thead>\n",
       "    <tr style=\"text-align: right;\">\n",
       "      <th></th>\n",
       "      <th>Depth</th>\n",
       "      <th>TOC</th>\n",
       "      <th>Calcite</th>\n",
       "      <th>Porosity</th>\n",
       "      <th>Quartz</th>\n",
       "      <th>Mineral</th>\n",
       "      <th>Wat_Per</th>\n",
       "      <th>TOC_Per</th>\n",
       "      <th>PS</th>\n",
       "      <th>S2</th>\n",
       "      <th>TOC3</th>\n",
       "      <th>PS3</th>\n",
       "      <th>PS4</th>\n",
       "    </tr>\n",
       "  </thead>\n",
       "  <tbody>\n",
       "    <tr>\n",
       "      <th>167</th>\n",
       "      <td>0.888595</td>\n",
       "      <td>0.766415</td>\n",
       "      <td>0.034462</td>\n",
       "      <td>0.742567</td>\n",
       "      <td>0.732489</td>\n",
       "      <td>0.488361</td>\n",
       "      <td>0.358357</td>\n",
       "      <td>0.621057</td>\n",
       "      <td>0.489364</td>\n",
       "      <td>0.641500</td>\n",
       "      <td>0.442812</td>\n",
       "      <td>3.534966e-03</td>\n",
       "      <td>0.858228</td>\n",
       "    </tr>\n",
       "    <tr>\n",
       "      <th>66</th>\n",
       "      <td>0.324955</td>\n",
       "      <td>0.148769</td>\n",
       "      <td>0.760177</td>\n",
       "      <td>0.143040</td>\n",
       "      <td>0.170731</td>\n",
       "      <td>0.863400</td>\n",
       "      <td>1.000000</td>\n",
       "      <td>0.328301</td>\n",
       "      <td>0.411068</td>\n",
       "      <td>0.483914</td>\n",
       "      <td>0.060649</td>\n",
       "      <td>7.493879e-10</td>\n",
       "      <td>0.180196</td>\n",
       "    </tr>\n",
       "    <tr>\n",
       "      <th>75</th>\n",
       "      <td>0.367703</td>\n",
       "      <td>0.782576</td>\n",
       "      <td>0.005673</td>\n",
       "      <td>0.707657</td>\n",
       "      <td>0.644345</td>\n",
       "      <td>0.379686</td>\n",
       "      <td>0.398551</td>\n",
       "      <td>0.660587</td>\n",
       "      <td>0.451046</td>\n",
       "      <td>0.699252</td>\n",
       "      <td>0.530343</td>\n",
       "      <td>1.187277e-03</td>\n",
       "      <td>0.895931</td>\n",
       "    </tr>\n",
       "    <tr>\n",
       "      <th>90</th>\n",
       "      <td>0.442849</td>\n",
       "      <td>0.550569</td>\n",
       "      <td>0.000000</td>\n",
       "      <td>0.881983</td>\n",
       "      <td>0.711794</td>\n",
       "      <td>0.430315</td>\n",
       "      <td>0.083035</td>\n",
       "      <td>0.383799</td>\n",
       "      <td>0.885301</td>\n",
       "      <td>0.125967</td>\n",
       "      <td>0.336131</td>\n",
       "      <td>1.000000e+00</td>\n",
       "      <td>0.204551</td>\n",
       "    </tr>\n",
       "    <tr>\n",
       "      <th>82</th>\n",
       "      <td>0.403369</td>\n",
       "      <td>0.560461</td>\n",
       "      <td>0.036940</td>\n",
       "      <td>0.705063</td>\n",
       "      <td>0.579933</td>\n",
       "      <td>0.361692</td>\n",
       "      <td>0.160541</td>\n",
       "      <td>0.471143</td>\n",
       "      <td>0.784610</td>\n",
       "      <td>0.177916</td>\n",
       "      <td>0.387558</td>\n",
       "      <td>1.873977e-01</td>\n",
       "      <td>0.230976</td>\n",
       "    </tr>\n",
       "  </tbody>\n",
       "</table>\n",
       "</div>"
      ],
      "text/plain": [
       "        Depth       TOC   Calcite  Porosity    Quartz   Mineral   Wat_Per  \\\n",
       "167  0.888595  0.766415  0.034462  0.742567  0.732489  0.488361  0.358357   \n",
       "66   0.324955  0.148769  0.760177  0.143040  0.170731  0.863400  1.000000   \n",
       "75   0.367703  0.782576  0.005673  0.707657  0.644345  0.379686  0.398551   \n",
       "90   0.442849  0.550569  0.000000  0.881983  0.711794  0.430315  0.083035   \n",
       "82   0.403369  0.560461  0.036940  0.705063  0.579933  0.361692  0.160541   \n",
       "\n",
       "      TOC_Per        PS        S2      TOC3           PS3       PS4  \n",
       "167  0.621057  0.489364  0.641500  0.442812  3.534966e-03  0.858228  \n",
       "66   0.328301  0.411068  0.483914  0.060649  7.493879e-10  0.180196  \n",
       "75   0.660587  0.451046  0.699252  0.530343  1.187277e-03  0.895931  \n",
       "90   0.383799  0.885301  0.125967  0.336131  1.000000e+00  0.204551  \n",
       "82   0.471143  0.784610  0.177916  0.387558  1.873977e-01  0.230976  "
      ]
     },
     "execution_count": 56,
     "metadata": {},
     "output_type": "execute_result"
    }
   ],
   "source": [
    "X_train.head()"
   ]
  },
  {
   "cell_type": "markdown",
   "id": "6abf3650",
   "metadata": {},
   "source": [
    "# PCA:"
   ]
  },
  {
   "cell_type": "code",
   "execution_count": 57,
   "id": "dc86745c",
   "metadata": {},
   "outputs": [],
   "source": [
    "from sklearn.decomposition import PCA"
   ]
  },
  {
   "cell_type": "code",
   "execution_count": 58,
   "id": "0b29ced8",
   "metadata": {},
   "outputs": [],
   "source": [
    "pca = PCA(random_state=42)        "
   ]
  },
  {
   "cell_type": "code",
   "execution_count": 59,
   "id": "7d4aa0af",
   "metadata": {},
   "outputs": [
    {
     "data": {
      "text/plain": [
       "PCA(random_state=42)"
      ]
     },
     "execution_count": 59,
     "metadata": {},
     "output_type": "execute_result"
    }
   ],
   "source": [
    "pca.fit(X_train)                          # fitting dataframe into pca."
   ]
  },
  {
   "cell_type": "code",
   "execution_count": 60,
   "id": "4b2d4f55",
   "metadata": {},
   "outputs": [
    {
     "data": {
      "text/plain": [
       "array([[ 9.67600873e-02,  1.61048792e-01,  4.50774172e-02,\n",
       "        -1.71486036e-01, -1.02347937e-01, -3.39996666e-02,\n",
       "         3.92811551e-01,  2.52201145e-01, -3.62260561e-01,\n",
       "         4.05864335e-01,  1.81773053e-01, -4.96778544e-01,\n",
       "         3.57680012e-01],\n",
       "       [-1.81560530e-01, -3.76166133e-01,  4.67594313e-01,\n",
       "        -3.00372375e-01, -3.26661620e-01,  2.71621457e-01,\n",
       "         2.49202451e-01, -2.38321366e-01, -3.89988177e-02,\n",
       "        -6.48252495e-02, -3.32031972e-01, -2.06710035e-01,\n",
       "        -2.42042051e-01],\n",
       "       [-7.50809223e-01,  9.72655054e-02,  6.79287158e-02,\n",
       "         2.43946075e-01,  2.61523352e-01,  3.01900872e-01,\n",
       "         5.15142410e-02, -6.06147209e-02, -1.03305411e-01,\n",
       "         2.27165380e-01, -1.14259775e-01,  1.77695574e-01,\n",
       "         2.99878878e-01],\n",
       "       [-6.20641054e-01,  1.49311823e-02, -1.78828841e-01,\n",
       "        -1.65013817e-01, -3.27761263e-01, -4.88389309e-01,\n",
       "        -1.00542446e-01,  1.36306444e-01,  8.01938196e-02,\n",
       "        -1.70487767e-01,  2.58100596e-01, -2.16379027e-01,\n",
       "        -1.78324722e-01],\n",
       "       [ 3.15848293e-02, -5.74912168e-02,  1.03294318e-01,\n",
       "        -8.77323454e-02, -3.86659628e-01, -2.07127326e-01,\n",
       "         3.25261018e-01, -1.38600861e-03, -1.38630832e-01,\n",
       "         2.09947443e-01,  1.93392715e-01,  7.58726279e-01,\n",
       "         5.25707592e-02],\n",
       "       [-8.45670808e-02,  8.36357445e-02, -2.12688259e-01,\n",
       "        -4.02385768e-01,  4.52331501e-01,  1.34449778e-01,\n",
       "         4.16333473e-01,  4.06110196e-01, -3.04433964e-02,\n",
       "        -1.29909445e-01, -6.60098862e-02,  1.57609628e-01,\n",
       "        -4.13233497e-01],\n",
       "       [-1.09895744e-03, -1.96833286e-01, -1.68687153e-01,\n",
       "        -5.00938777e-01,  1.23269519e-02, -1.87614305e-01,\n",
       "        -3.66444264e-01,  1.91217537e-01,  3.37614289e-02,\n",
       "         1.98268206e-01, -5.29986246e-01,  1.23227332e-01,\n",
       "         3.73019166e-01],\n",
       "       [ 1.24388179e-02,  7.71989133e-04, -3.31836400e-01,\n",
       "         1.38681664e-01,  5.85520604e-02, -3.39933008e-01,\n",
       "         5.46610773e-01, -3.90192723e-01,  8.27592126e-02,\n",
       "        -2.99507910e-01, -3.53477544e-01, -6.80445107e-02,\n",
       "         2.72671384e-01],\n",
       "       [ 1.99922215e-02,  1.96844433e-01,  1.99640985e-01,\n",
       "         4.28272525e-01, -3.07908531e-01, -2.71000937e-02,\n",
       "         6.88461142e-02,  6.29424918e-01,  2.18035179e-02,\n",
       "        -2.26604675e-01, -4.34552512e-01,  2.08497713e-02,\n",
       "         5.04357350e-03],\n",
       "       [-6.51902063e-03, -5.78918838e-01,  6.46016583e-02,\n",
       "         1.43150218e-02,  8.86058890e-02,  1.51120464e-01,\n",
       "         1.33068339e-01,  3.05908006e-01,  3.15729824e-01,\n",
       "        -3.14871706e-01,  3.58436625e-01,  2.34994145e-03,\n",
       "         4.37201382e-01],\n",
       "       [ 4.01162551e-03, -1.90359551e-01, -9.42274138e-02,\n",
       "         2.17986918e-01,  8.89533455e-03, -1.03093068e-01,\n",
       "         1.80557105e-01,  7.38292996e-02,  6.20164359e-01,\n",
       "         6.31233140e-01, -8.45041489e-02, -1.00524189e-01,\n",
       "        -2.41424795e-01],\n",
       "       [-2.18549645e-04, -6.03078089e-01, -2.24912968e-01,\n",
       "         3.50293624e-01,  1.17762221e-01, -1.64083558e-01,\n",
       "        -5.99487947e-02,  9.16285873e-02, -5.80727600e-01,\n",
       "         1.07157973e-01, -7.07009185e-02, -3.49241804e-02,\n",
       "        -2.35114014e-01],\n",
       "       [-3.15513190e-17,  4.38062020e-16, -6.66901950e-01,\n",
       "         7.70259651e-17, -4.82389562e-01,  5.67927899e-01,\n",
       "        -5.95154799e-17,  1.01251541e-16, -4.12667141e-16,\n",
       "        -2.06762384e-16, -1.67685479e-16,  9.51005594e-17,\n",
       "        -2.03190325e-16]])"
      ]
     },
     "execution_count": 60,
     "metadata": {},
     "output_type": "execute_result"
    }
   ],
   "source": [
    "pca.components_            # components of pca"
   ]
  },
  {
   "cell_type": "code",
   "execution_count": 61,
   "id": "4236d650",
   "metadata": {},
   "outputs": [],
   "source": [
    "explained_variances = pca.explained_variance_ratio_\n",
    "cumulative_variance = np.cumsum(explained_variances)\n",
    "n_components = np.argmax(cumulative_variance >= 0.85) + 1"
   ]
  },
  {
   "cell_type": "code",
   "execution_count": 62,
   "id": "e632036b",
   "metadata": {},
   "outputs": [
    {
     "data": {
      "text/plain": [
       "4"
      ]
     },
     "execution_count": 62,
     "metadata": {},
     "output_type": "execute_result"
    }
   ],
   "source": [
    "n_components"
   ]
  },
  {
   "cell_type": "code",
   "execution_count": 63,
   "id": "eb61a5f0",
   "metadata": {},
   "outputs": [],
   "source": [
    "####  we can identify that 4 is the optimal number for components in PCA."
   ]
  },
  {
   "cell_type": "code",
   "execution_count": 64,
   "id": "669f0763",
   "metadata": {},
   "outputs": [],
   "source": [
    "pc4 = PCA(n_components=n_components, random_state=42)            # Fitting data into pca with optimal hyperparameters"
   ]
  },
  {
   "cell_type": "code",
   "execution_count": 65,
   "id": "c02509cc",
   "metadata": {},
   "outputs": [
    {
     "data": {
      "text/html": [
       "<div>\n",
       "<style scoped>\n",
       "    .dataframe tbody tr th:only-of-type {\n",
       "        vertical-align: middle;\n",
       "    }\n",
       "\n",
       "    .dataframe tbody tr th {\n",
       "        vertical-align: top;\n",
       "    }\n",
       "\n",
       "    .dataframe thead th {\n",
       "        text-align: right;\n",
       "    }\n",
       "</style>\n",
       "<table border=\"1\" class=\"dataframe\">\n",
       "  <thead>\n",
       "    <tr style=\"text-align: right;\">\n",
       "      <th></th>\n",
       "      <th>pca1</th>\n",
       "      <th>pca2</th>\n",
       "      <th>pca3</th>\n",
       "      <th>pca4</th>\n",
       "    </tr>\n",
       "  </thead>\n",
       "  <tbody>\n",
       "    <tr>\n",
       "      <th>0</th>\n",
       "      <td>0.511931</td>\n",
       "      <td>-0.498375</td>\n",
       "      <td>0.004853</td>\n",
       "      <td>-0.440823</td>\n",
       "    </tr>\n",
       "    <tr>\n",
       "      <th>1</th>\n",
       "      <td>0.370576</td>\n",
       "      <td>1.175763</td>\n",
       "      <td>0.100120</td>\n",
       "      <td>-0.190909</td>\n",
       "    </tr>\n",
       "    <tr>\n",
       "      <th>2</th>\n",
       "      <td>0.575178</td>\n",
       "      <td>-0.452939</td>\n",
       "      <td>0.348824</td>\n",
       "      <td>-0.019615</td>\n",
       "    </tr>\n",
       "    <tr>\n",
       "      <th>3</th>\n",
       "      <td>-0.856208</td>\n",
       "      <td>-0.409678</td>\n",
       "      <td>0.162679</td>\n",
       "      <td>-0.160705</td>\n",
       "    </tr>\n",
       "    <tr>\n",
       "      <th>4</th>\n",
       "      <td>-0.278084</td>\n",
       "      <td>-0.167822</td>\n",
       "      <td>-0.024015</td>\n",
       "      <td>0.134841</td>\n",
       "    </tr>\n",
       "  </tbody>\n",
       "</table>\n",
       "</div>"
      ],
      "text/plain": [
       "       pca1      pca2      pca3      pca4\n",
       "0  0.511931 -0.498375  0.004853 -0.440823\n",
       "1  0.370576  1.175763  0.100120 -0.190909\n",
       "2  0.575178 -0.452939  0.348824 -0.019615\n",
       "3 -0.856208 -0.409678  0.162679 -0.160705\n",
       "4 -0.278084 -0.167822 -0.024015  0.134841"
      ]
     },
     "execution_count": 65,
     "metadata": {},
     "output_type": "execute_result"
    }
   ],
   "source": [
    "df_pca = pc4.fit_transform(X_train)                # converting pca4 on X_train result into dataframe\n",
    "\n",
    "\n",
    "pca_col=['pca1','pca2','pca3','pca4']\n",
    "\n",
    "\n",
    "X_train_pca=pd.DataFrame(df_pca,columns=pca_col)\n",
    "\n",
    "\n",
    "X_train_pca.head()"
   ]
  },
  {
   "cell_type": "code",
   "execution_count": 66,
   "id": "6a97c35f",
   "metadata": {},
   "outputs": [
    {
     "data": {
      "image/png": "[encoded data removed]",
      "text/plain": [
       "<Figure size 2160x1080 with 2 Axes>"
      ]
     },
     "metadata": {
      "needs_background": "light"
     },
     "output_type": "display_data"
    }
   ],
   "source": [
    "plt.figure(figsize=[30,15])                  # heat map to plot correlation matrix.\n",
    "sns.heatmap(X_train_pca.corr(),annot=True,cmap='Greens')\n",
    "plt.show()"
   ]
  },
  {
   "cell_type": "code",
   "execution_count": 67,
   "id": "6474b733",
   "metadata": {
    "scrolled": true
   },
   "outputs": [
    {
     "data": {
      "text/html": [
       "<div>\n",
       "<style scoped>\n",
       "    .dataframe tbody tr th:only-of-type {\n",
       "        vertical-align: middle;\n",
       "    }\n",
       "\n",
       "    .dataframe tbody tr th {\n",
       "        vertical-align: top;\n",
       "    }\n",
       "\n",
       "    .dataframe thead th {\n",
       "        text-align: right;\n",
       "    }\n",
       "</style>\n",
       "<table border=\"1\" class=\"dataframe\">\n",
       "  <thead>\n",
       "    <tr style=\"text-align: right;\">\n",
       "      <th></th>\n",
       "      <th>pca1</th>\n",
       "      <th>pca2</th>\n",
       "      <th>pca3</th>\n",
       "      <th>pca4</th>\n",
       "    </tr>\n",
       "  </thead>\n",
       "  <tbody>\n",
       "    <tr>\n",
       "      <th>0</th>\n",
       "      <td>-0.553076</td>\n",
       "      <td>-0.295840</td>\n",
       "      <td>-0.455210</td>\n",
       "      <td>-0.072255</td>\n",
       "    </tr>\n",
       "    <tr>\n",
       "      <th>1</th>\n",
       "      <td>0.723186</td>\n",
       "      <td>-0.003872</td>\n",
       "      <td>-0.172546</td>\n",
       "      <td>0.389826</td>\n",
       "    </tr>\n",
       "    <tr>\n",
       "      <th>2</th>\n",
       "      <td>0.140286</td>\n",
       "      <td>-0.106510</td>\n",
       "      <td>0.526920</td>\n",
       "      <td>0.079860</td>\n",
       "    </tr>\n",
       "    <tr>\n",
       "      <th>3</th>\n",
       "      <td>-0.278374</td>\n",
       "      <td>0.017809</td>\n",
       "      <td>-0.534343</td>\n",
       "      <td>-0.028902</td>\n",
       "    </tr>\n",
       "    <tr>\n",
       "      <th>4</th>\n",
       "      <td>0.222825</td>\n",
       "      <td>0.025060</td>\n",
       "      <td>-0.587459</td>\n",
       "      <td>0.048313</td>\n",
       "    </tr>\n",
       "  </tbody>\n",
       "</table>\n",
       "</div>"
      ],
      "text/plain": [
       "       pca1      pca2      pca3      pca4\n",
       "0 -0.553076 -0.295840 -0.455210 -0.072255\n",
       "1  0.723186 -0.003872 -0.172546  0.389826\n",
       "2  0.140286 -0.106510  0.526920  0.079860\n",
       "3 -0.278374  0.017809 -0.534343 -0.028902\n",
       "4  0.222825  0.025060 -0.587459  0.048313"
      ]
     },
     "execution_count": 67,
     "metadata": {},
     "output_type": "execute_result"
    }
   ],
   "source": [
    "# Transforming X_test using pca25.\n",
    "\n",
    "X_test_pca = pc4.transform(X_test)                # converting pca4 on X_test result into dataframe\n",
    "\n",
    "\n",
    "X_test_pca=pd.DataFrame(X_test_pca,columns=pca_col)\n",
    "\n",
    "\n",
    "X_test_pca.head()"
   ]
  },
  {
   "cell_type": "markdown",
   "id": "dcb87c67",
   "metadata": {},
   "source": [
    "## Hyperparameter tuning:"
   ]
  },
  {
   "cell_type": "markdown",
   "id": "41278786",
   "metadata": {},
   "source": [
    "## SVM -1 :"
   ]
  },
  {
   "cell_type": "code",
   "execution_count": 68,
   "id": "62c24263",
   "metadata": {},
   "outputs": [],
   "source": [
    "# Create the parameter grid based on the results of svr.. \n",
    "\n",
    "from sklearn.model_selection import RandomizedSearchCV\n",
    "from sklearn.metrics import mean_squared_error\n",
    "from sklearn.metrics import mean_absolute_error\n",
    "\n",
    "svr=SVR()\n",
    "\n",
    "\n",
    "params = {\n",
    "    'kernel':['poly'],\n",
    "    'degree': [2],\n",
    "    'gamma': ['scale','auto'],\n",
    "    'epsilon': [0.1,0.15,0.2,0.25],\n",
    "}"
   ]
  },
  {
   "cell_type": "code",
   "execution_count": 69,
   "id": "1b3e0486",
   "metadata": {},
   "outputs": [],
   "source": [
    "svr_1 = RandomizedSearchCV(estimator = svr,param_distributions = params, cv = 5, verbose=2, random_state=80,n_jobs=-1)"
   ]
  },
  {
   "cell_type": "code",
   "execution_count": 70,
   "id": "ab71f708",
   "metadata": {},
   "outputs": [
    {
     "name": "stdout",
     "output_type": "stream",
     "text": [
      "Fitting 5 folds for each of 8 candidates, totalling 40 fits\n"
     ]
    },
    {
     "data": {
      "text/plain": [
       "RandomizedSearchCV(cv=5, estimator=SVR(), n_jobs=-1,\n",
       "                   param_distributions={'degree': [2],\n",
       "                                        'epsilon': [0.1, 0.15, 0.2, 0.25],\n",
       "                                        'gamma': ['scale', 'auto'],\n",
       "                                        'kernel': ['poly']},\n",
       "                   random_state=80, verbose=2)"
      ]
     },
     "execution_count": 70,
     "metadata": {},
     "output_type": "execute_result"
    }
   ],
   "source": [
    "svr_1.fit(X_train_pca, y_train)"
   ]
  },
  {
   "cell_type": "markdown",
   "id": "2a282d46",
   "metadata": {},
   "source": [
    "## Building the model with best params:"
   ]
  },
  {
   "cell_type": "code",
   "execution_count": 71,
   "id": "e7ccced5",
   "metadata": {},
   "outputs": [
    {
     "data": {
      "text/plain": [
       "{'kernel': 'poly', 'gamma': 'scale', 'epsilon': 0.1, 'degree': 2}"
      ]
     },
     "execution_count": 71,
     "metadata": {},
     "output_type": "execute_result"
    }
   ],
   "source": [
    "svr_1.best_params_"
   ]
  },
  {
   "cell_type": "code",
   "execution_count": 72,
   "id": "55a1563d",
   "metadata": {},
   "outputs": [],
   "source": [
    "svr_1_best = SVR (kernel ='poly',gamma='auto',epsilon=0.1,degree=1) "
   ]
  },
  {
   "cell_type": "code",
   "execution_count": 73,
   "id": "ba0b258f",
   "metadata": {},
   "outputs": [
    {
     "data": {
      "text/plain": [
       "SVR(degree=1, gamma='auto', kernel='poly')"
      ]
     },
     "execution_count": 73,
     "metadata": {},
     "output_type": "execute_result"
    }
   ],
   "source": [
    "svr_1_best.fit(X_train_pca,y_train)"
   ]
  },
  {
   "cell_type": "code",
   "execution_count": 74,
   "id": "cffb499c",
   "metadata": {},
   "outputs": [
    {
     "data": {
      "text/plain": [
       "0.9588449386859703"
      ]
     },
     "execution_count": 74,
     "metadata": {},
     "output_type": "execute_result"
    }
   ],
   "source": [
    "y_train_pred = svr_1_best.predict(X_train_pca)\n",
    "r2_score(y_train, y_train_pred)"
   ]
  },
  {
   "cell_type": "markdown",
   "id": "e7943586",
   "metadata": {},
   "source": [
    "## Test dataset results:"
   ]
  },
  {
   "cell_type": "code",
   "execution_count": 75,
   "id": "fde38ffe",
   "metadata": {},
   "outputs": [],
   "source": [
    "y_pred_svr1=svr_1_best.predict(X_test_pca)"
   ]
  },
  {
   "cell_type": "code",
   "execution_count": 76,
   "id": "2a4c2efe",
   "metadata": {},
   "outputs": [
    {
     "data": {
      "text/plain": [
       "(0.9495555287426949, 0.0023366761081333727, 0.04045141615953468)"
      ]
     },
     "execution_count": 76,
     "metadata": {},
     "output_type": "execute_result"
    }
   ],
   "source": [
    "x=r2_score(y_test,y_pred_svr1)\n",
    "y=mean_squared_error(y_test,y_pred_svr1)\n",
    "z=mean_absolute_error(y_test,y_pred_svr1)\n",
    "x,y,z"
   ]
  },
  {
   "cell_type": "code",
   "execution_count": 77,
   "id": "09229b6f",
   "metadata": {},
   "outputs": [],
   "source": [
    "d={'Model_name':['SVM_poly_kernel'],'R2 score':[x],'RMSE':[y],'MAE':[z]}"
   ]
  },
  {
   "cell_type": "code",
   "execution_count": 78,
   "id": "f60b36e0",
   "metadata": {},
   "outputs": [],
   "source": [
    "optimizied_results=pd.DataFrame(d)"
   ]
  },
  {
   "cell_type": "code",
   "execution_count": 79,
   "id": "67c93dd4",
   "metadata": {
    "scrolled": true
   },
   "outputs": [
    {
     "data": {
      "text/html": [
       "<div>\n",
       "<style scoped>\n",
       "    .dataframe tbody tr th:only-of-type {\n",
       "        vertical-align: middle;\n",
       "    }\n",
       "\n",
       "    .dataframe tbody tr th {\n",
       "        vertical-align: top;\n",
       "    }\n",
       "\n",
       "    .dataframe thead th {\n",
       "        text-align: right;\n",
       "    }\n",
       "</style>\n",
       "<table border=\"1\" class=\"dataframe\">\n",
       "  <thead>\n",
       "    <tr style=\"text-align: right;\">\n",
       "      <th></th>\n",
       "      <th>Model_name</th>\n",
       "      <th>R2 score</th>\n",
       "      <th>RMSE</th>\n",
       "      <th>MAE</th>\n",
       "    </tr>\n",
       "  </thead>\n",
       "  <tbody>\n",
       "    <tr>\n",
       "      <th>0</th>\n",
       "      <td>SVM_poly_kernel</td>\n",
       "      <td>0.949556</td>\n",
       "      <td>0.002337</td>\n",
       "      <td>0.040451</td>\n",
       "    </tr>\n",
       "  </tbody>\n",
       "</table>\n",
       "</div>"
      ],
      "text/plain": [
       "        Model_name  R2 score      RMSE       MAE\n",
       "0  SVM_poly_kernel  0.949556  0.002337  0.040451"
      ]
     },
     "execution_count": 79,
     "metadata": {},
     "output_type": "execute_result"
    }
   ],
   "source": [
    "optimizied_results"
   ]
  },
  {
   "cell_type": "markdown",
   "id": "54fa7ddd",
   "metadata": {},
   "source": [
    "## With out Dimensionality Reduction:"
   ]
  },
  {
   "cell_type": "code",
   "execution_count": 80,
   "id": "6a835e22",
   "metadata": {},
   "outputs": [
    {
     "name": "stdout",
     "output_type": "stream",
     "text": [
      "Fitting 5 folds for each of 8 candidates, totalling 40 fits\n"
     ]
    },
    {
     "data": {
      "text/plain": [
       "RandomizedSearchCV(cv=5, estimator=SVR(), n_jobs=-1,\n",
       "                   param_distributions={'degree': [2],\n",
       "                                        'epsilon': [0.1, 0.15, 0.2, 0.25],\n",
       "                                        'gamma': ['scale', 'auto'],\n",
       "                                        'kernel': ['poly']},\n",
       "                   random_state=80, verbose=2)"
      ]
     },
     "execution_count": 80,
     "metadata": {},
     "output_type": "execute_result"
    }
   ],
   "source": [
    "svr_1.fit(X_train, y_train)"
   ]
  },
  {
   "cell_type": "code",
   "execution_count": 81,
   "id": "035555c5",
   "metadata": {},
   "outputs": [
    {
     "data": {
      "text/plain": [
       "{'kernel': 'poly', 'gamma': 'scale', 'epsilon': 0.1, 'degree': 2}"
      ]
     },
     "execution_count": 81,
     "metadata": {},
     "output_type": "execute_result"
    }
   ],
   "source": [
    "svr_1.best_params_"
   ]
  },
  {
   "cell_type": "code",
   "execution_count": 82,
   "id": "b0ae1f5c",
   "metadata": {},
   "outputs": [],
   "source": [
    "svr_1_without_dr = SVR (kernel ='poly',gamma='scale',epsilon=0.1,degree=2) "
   ]
  },
  {
   "cell_type": "code",
   "execution_count": 83,
   "id": "65db53ac",
   "metadata": {},
   "outputs": [
    {
     "data": {
      "text/plain": [
       "SVR(degree=2, kernel='poly')"
      ]
     },
     "execution_count": 83,
     "metadata": {},
     "output_type": "execute_result"
    }
   ],
   "source": [
    "svr_1_without_dr.fit(X_train,y_train)"
   ]
  },
  {
   "cell_type": "code",
   "execution_count": 84,
   "id": "590cfb92",
   "metadata": {},
   "outputs": [
    {
     "data": {
      "text/plain": [
       "0.9394202153407939"
      ]
     },
     "execution_count": 84,
     "metadata": {},
     "output_type": "execute_result"
    }
   ],
   "source": [
    "y_train_pred = svr_1_without_dr.predict(X_train)\n",
    "r2_score(y_train, y_train_pred)"
   ]
  },
  {
   "cell_type": "markdown",
   "id": "11eedcdd",
   "metadata": {},
   "source": [
    "### Test dataset results:"
   ]
  },
  {
   "cell_type": "code",
   "execution_count": 85,
   "id": "213fe897",
   "metadata": {},
   "outputs": [],
   "source": [
    "y_pred=svr_1_without_dr.predict(X_test)"
   ]
  },
  {
   "cell_type": "code",
   "execution_count": 86,
   "id": "b109c081",
   "metadata": {},
   "outputs": [
    {
     "data": {
      "text/plain": [
       "0.9374489919742082"
      ]
     },
     "execution_count": 86,
     "metadata": {},
     "output_type": "execute_result"
    }
   ],
   "source": [
    "r2_1=r2_score(y_test,y_pred)\n",
    "r2_1"
   ]
  },
  {
   "cell_type": "markdown",
   "id": "5da70570",
   "metadata": {},
   "source": [
    "# SVM 2:"
   ]
  },
  {
   "cell_type": "code",
   "execution_count": 87,
   "id": "6993a422",
   "metadata": {},
   "outputs": [],
   "source": [
    "# Create the parameter grid based on the results of svr.. \n",
    "\n",
    "from sklearn.model_selection import RandomizedSearchCV\n",
    "\n",
    "svr=SVR()\n",
    "\n",
    "\n",
    "params = {\n",
    "    'kernel':['rbf'],\n",
    "    'degree': [1,2,3,4],\n",
    "    'gamma': ['scale','auto'],\n",
    "    'epsilon': [0.1,0.15,0.2,0.25],\n",
    "}"
   ]
  },
  {
   "cell_type": "code",
   "execution_count": 88,
   "id": "556e254a",
   "metadata": {},
   "outputs": [],
   "source": [
    "svr_2 = RandomizedSearchCV(estimator = svr,param_distributions = params, cv = 5, verbose=2, random_state=80,n_jobs=-1)"
   ]
  },
  {
   "cell_type": "code",
   "execution_count": 89,
   "id": "4c5246af",
   "metadata": {},
   "outputs": [
    {
     "name": "stdout",
     "output_type": "stream",
     "text": [
      "Fitting 5 folds for each of 10 candidates, totalling 50 fits\n"
     ]
    },
    {
     "data": {
      "text/plain": [
       "RandomizedSearchCV(cv=5, estimator=SVR(), n_jobs=-1,\n",
       "                   param_distributions={'degree': [1, 2, 3, 4],\n",
       "                                        'epsilon': [0.1, 0.15, 0.2, 0.25],\n",
       "                                        'gamma': ['scale', 'auto'],\n",
       "                                        'kernel': ['rbf']},\n",
       "                   random_state=80, verbose=2)"
      ]
     },
     "execution_count": 89,
     "metadata": {},
     "output_type": "execute_result"
    }
   ],
   "source": [
    "svr_2.fit(X_train_pca, y_train)"
   ]
  },
  {
   "cell_type": "markdown",
   "id": "dbf72e40",
   "metadata": {},
   "source": [
    "## Building the model with best params:"
   ]
  },
  {
   "cell_type": "code",
   "execution_count": 90,
   "id": "c6ebd4d5",
   "metadata": {},
   "outputs": [
    {
     "data": {
      "text/plain": [
       "{'kernel': 'rbf', 'gamma': 'auto', 'epsilon': 0.1, 'degree': 1}"
      ]
     },
     "execution_count": 90,
     "metadata": {},
     "output_type": "execute_result"
    }
   ],
   "source": [
    "svr_2.best_params_"
   ]
  },
  {
   "cell_type": "code",
   "execution_count": 91,
   "id": "275a2c31",
   "metadata": {},
   "outputs": [],
   "source": [
    "svr_2_best = SVR (kernel ='rbf',gamma='auto',epsilon=0.1,degree=1) "
   ]
  },
  {
   "cell_type": "code",
   "execution_count": 92,
   "id": "043a3f0d",
   "metadata": {},
   "outputs": [
    {
     "data": {
      "text/plain": [
       "SVR(degree=1, gamma='auto')"
      ]
     },
     "execution_count": 92,
     "metadata": {},
     "output_type": "execute_result"
    }
   ],
   "source": [
    "svr_2_best.fit(X_train_pca,y_train)"
   ]
  },
  {
   "cell_type": "code",
   "execution_count": 93,
   "id": "752a356c",
   "metadata": {},
   "outputs": [
    {
     "data": {
      "text/plain": [
       "0.9588427068382178"
      ]
     },
     "execution_count": 93,
     "metadata": {},
     "output_type": "execute_result"
    }
   ],
   "source": [
    "y_train_pred = svr_2_best.predict(X_train_pca)\n",
    "r2_score(y_train, y_train_pred)"
   ]
  },
  {
   "cell_type": "markdown",
   "id": "029d0585",
   "metadata": {},
   "source": [
    "## Test dataset results:"
   ]
  },
  {
   "cell_type": "code",
   "execution_count": 94,
   "id": "5d3b4015",
   "metadata": {},
   "outputs": [],
   "source": [
    "y_pred_svr2=svr_2_best.predict(X_test_pca)"
   ]
  },
  {
   "cell_type": "code",
   "execution_count": 95,
   "id": "fb9cce7a",
   "metadata": {},
   "outputs": [
    {
     "data": {
      "text/plain": [
       "(0.9407648538052624, 0.0027438755412663085, 0.038008076619472385)"
      ]
     },
     "execution_count": 95,
     "metadata": {},
     "output_type": "execute_result"
    }
   ],
   "source": [
    "x=r2_score(y_test,y_pred_svr2)\n",
    "y=mean_squared_error(y_test,y_pred_svr2)\n",
    "z=mean_absolute_error(y_test,y_pred_svr2)\n",
    "x,y,z"
   ]
  },
  {
   "cell_type": "code",
   "execution_count": 96,
   "id": "6713e66d",
   "metadata": {},
   "outputs": [],
   "source": [
    "optimizied_results.loc[len(optimizied_results)]=['SVM_rbf_kernel',x,y,z]"
   ]
  },
  {
   "cell_type": "code",
   "execution_count": 97,
   "id": "883fde17",
   "metadata": {},
   "outputs": [
    {
     "data": {
      "text/html": [
       "<div>\n",
       "<style scoped>\n",
       "    .dataframe tbody tr th:only-of-type {\n",
       "        vertical-align: middle;\n",
       "    }\n",
       "\n",
       "    .dataframe tbody tr th {\n",
       "        vertical-align: top;\n",
       "    }\n",
       "\n",
       "    .dataframe thead th {\n",
       "        text-align: right;\n",
       "    }\n",
       "</style>\n",
       "<table border=\"1\" class=\"dataframe\">\n",
       "  <thead>\n",
       "    <tr style=\"text-align: right;\">\n",
       "      <th></th>\n",
       "      <th>Model_name</th>\n",
       "      <th>R2 score</th>\n",
       "      <th>RMSE</th>\n",
       "      <th>MAE</th>\n",
       "    </tr>\n",
       "  </thead>\n",
       "  <tbody>\n",
       "    <tr>\n",
       "      <th>0</th>\n",
       "      <td>SVM_poly_kernel</td>\n",
       "      <td>0.949556</td>\n",
       "      <td>0.002337</td>\n",
       "      <td>0.040451</td>\n",
       "    </tr>\n",
       "    <tr>\n",
       "      <th>1</th>\n",
       "      <td>SVM_rbf_kernel</td>\n",
       "      <td>0.940765</td>\n",
       "      <td>0.002744</td>\n",
       "      <td>0.038008</td>\n",
       "    </tr>\n",
       "  </tbody>\n",
       "</table>\n",
       "</div>"
      ],
      "text/plain": [
       "        Model_name  R2 score      RMSE       MAE\n",
       "0  SVM_poly_kernel  0.949556  0.002337  0.040451\n",
       "1   SVM_rbf_kernel  0.940765  0.002744  0.038008"
      ]
     },
     "execution_count": 97,
     "metadata": {},
     "output_type": "execute_result"
    }
   ],
   "source": [
    "optimizied_results"
   ]
  },
  {
   "cell_type": "markdown",
   "id": "a57e5d91",
   "metadata": {},
   "source": [
    "## With out Dimensionality Reduction:"
   ]
  },
  {
   "cell_type": "code",
   "execution_count": 98,
   "id": "c115f33b",
   "metadata": {},
   "outputs": [
    {
     "name": "stdout",
     "output_type": "stream",
     "text": [
      "Fitting 5 folds for each of 10 candidates, totalling 50 fits\n"
     ]
    },
    {
     "data": {
      "text/plain": [
       "RandomizedSearchCV(cv=5, estimator=SVR(), n_jobs=-1,\n",
       "                   param_distributions={'degree': [1, 2, 3, 4],\n",
       "                                        'epsilon': [0.1, 0.15, 0.2, 0.25],\n",
       "                                        'gamma': ['scale', 'auto'],\n",
       "                                        'kernel': ['rbf']},\n",
       "                   random_state=80, verbose=2)"
      ]
     },
     "execution_count": 98,
     "metadata": {},
     "output_type": "execute_result"
    }
   ],
   "source": [
    "svr_2.fit(X_train, y_train)"
   ]
  },
  {
   "cell_type": "code",
   "execution_count": 99,
   "id": "dd6f4984",
   "metadata": {},
   "outputs": [
    {
     "data": {
      "text/plain": [
       "{'kernel': 'rbf', 'gamma': 'auto', 'epsilon': 0.1, 'degree': 1}"
      ]
     },
     "execution_count": 99,
     "metadata": {},
     "output_type": "execute_result"
    }
   ],
   "source": [
    "svr_2.best_params_"
   ]
  },
  {
   "cell_type": "code",
   "execution_count": 100,
   "id": "e82a849a",
   "metadata": {},
   "outputs": [],
   "source": [
    "svr_2_without_dr = SVR (kernel ='rbf',gamma='auto',epsilon=0.1,degree=1) "
   ]
  },
  {
   "cell_type": "code",
   "execution_count": 101,
   "id": "97b18a9c",
   "metadata": {},
   "outputs": [
    {
     "data": {
      "text/plain": [
       "SVR(degree=1, gamma='auto')"
      ]
     },
     "execution_count": 101,
     "metadata": {},
     "output_type": "execute_result"
    }
   ],
   "source": [
    "svr_2_without_dr.fit(X_train,y_train)"
   ]
  },
  {
   "cell_type": "code",
   "execution_count": 102,
   "id": "1eb09f9e",
   "metadata": {},
   "outputs": [
    {
     "data": {
      "text/plain": [
       "0.9611804788056341"
      ]
     },
     "execution_count": 102,
     "metadata": {},
     "output_type": "execute_result"
    }
   ],
   "source": [
    "y_train_pred = svr_2_without_dr.predict(X_train)\n",
    "r2_score(y_train, y_train_pred)"
   ]
  },
  {
   "cell_type": "markdown",
   "id": "fd194d8a",
   "metadata": {},
   "source": [
    "### Test dataset results:"
   ]
  },
  {
   "cell_type": "code",
   "execution_count": 103,
   "id": "4e52865d",
   "metadata": {},
   "outputs": [],
   "source": [
    "y_pred=svr_2_without_dr.predict(X_test)"
   ]
  },
  {
   "cell_type": "code",
   "execution_count": 104,
   "id": "2b4e3eb1",
   "metadata": {},
   "outputs": [
    {
     "data": {
      "text/plain": [
       "0.9269910009091616"
      ]
     },
     "execution_count": 104,
     "metadata": {},
     "output_type": "execute_result"
    }
   ],
   "source": [
    "r2_2=r2_score(y_test,y_pred)\n",
    "r2_2"
   ]
  },
  {
   "cell_type": "markdown",
   "id": "53327aea",
   "metadata": {},
   "source": [
    "## Gradient Boosting:"
   ]
  },
  {
   "cell_type": "code",
   "execution_count": 105,
   "id": "1cccc8c5",
   "metadata": {},
   "outputs": [],
   "source": [
    "# Create the parameter grid based on the results of GBR.. \n",
    "\n",
    "\n",
    "gbr = GradientBoostingRegressor() \n",
    "\n",
    "\n",
    "params = {\n",
    "    'n_estimators':[50,75,100,125,150],\n",
    "    'max_depth': [2,3,4],\n",
    "    'learning_rate': [0.1,0.15,0.2,0.25],\n",
    "     'loss' : ['squared_error', 'absolute_error', 'huber', 'quantile'],\n",
    "    'criterion':['friedman_mse', 'squared_error']\n",
    "}"
   ]
  },
  {
   "cell_type": "code",
   "execution_count": 106,
   "id": "6e6d7120",
   "metadata": {},
   "outputs": [],
   "source": [
    "gbr = RandomizedSearchCV(estimator = gbr,param_distributions = params, cv = 5, verbose=2, random_state=80,n_jobs=-1)"
   ]
  },
  {
   "cell_type": "code",
   "execution_count": 107,
   "id": "6904246c",
   "metadata": {},
   "outputs": [
    {
     "name": "stdout",
     "output_type": "stream",
     "text": [
      "Fitting 5 folds for each of 10 candidates, totalling 50 fits\n"
     ]
    },
    {
     "data": {
      "text/plain": [
       "RandomizedSearchCV(cv=5, estimator=GradientBoostingRegressor(), n_jobs=-1,\n",
       "                   param_distributions={'criterion': ['friedman_mse',\n",
       "                                                      'squared_error'],\n",
       "                                        'learning_rate': [0.1, 0.15, 0.2, 0.25],\n",
       "                                        'loss': ['squared_error',\n",
       "                                                 'absolute_error', 'huber',\n",
       "                                                 'quantile'],\n",
       "                                        'max_depth': [2, 3, 4],\n",
       "                                        'n_estimators': [50, 75, 100, 125,\n",
       "                                                         150]},\n",
       "                   random_state=80, verbose=2)"
      ]
     },
     "execution_count": 107,
     "metadata": {},
     "output_type": "execute_result"
    }
   ],
   "source": [
    "gbr.fit(X_train_pca, y_train)"
   ]
  },
  {
   "cell_type": "markdown",
   "id": "0f21d0d8",
   "metadata": {},
   "source": [
    "## Building the model with best params:"
   ]
  },
  {
   "cell_type": "code",
   "execution_count": 108,
   "id": "e0e04a0f",
   "metadata": {},
   "outputs": [
    {
     "data": {
      "text/plain": [
       "{'n_estimators': 150,\n",
       " 'max_depth': 4,\n",
       " 'loss': 'squared_error',\n",
       " 'learning_rate': 0.2,\n",
       " 'criterion': 'friedman_mse'}"
      ]
     },
     "execution_count": 108,
     "metadata": {},
     "output_type": "execute_result"
    }
   ],
   "source": [
    "gbr.best_params_"
   ]
  },
  {
   "cell_type": "code",
   "execution_count": 109,
   "id": "9e1965d3",
   "metadata": {},
   "outputs": [],
   "source": [
    "gbr_best = GradientBoostingRegressor(n_estimators=150,max_depth=4,loss='squared_error',learning_rate= 0.2,criterion='friedman_mse') "
   ]
  },
  {
   "cell_type": "code",
   "execution_count": 110,
   "id": "9b693140",
   "metadata": {},
   "outputs": [
    {
     "data": {
      "text/plain": [
       "GradientBoostingRegressor(learning_rate=0.2, max_depth=4, n_estimators=150)"
      ]
     },
     "execution_count": 110,
     "metadata": {},
     "output_type": "execute_result"
    }
   ],
   "source": [
    "gbr_best.fit(X_train_pca,y_train)"
   ]
  },
  {
   "cell_type": "code",
   "execution_count": 111,
   "id": "9feb888d",
   "metadata": {},
   "outputs": [
    {
     "data": {
      "text/plain": [
       "0.9999996513055951"
      ]
     },
     "execution_count": 111,
     "metadata": {},
     "output_type": "execute_result"
    }
   ],
   "source": [
    "y_train_pred = gbr_best.predict(X_train_pca)\n",
    "r2_score(y_train, y_train_pred)"
   ]
  },
  {
   "cell_type": "markdown",
   "id": "370684be",
   "metadata": {},
   "source": [
    "## Test dataset results:"
   ]
  },
  {
   "cell_type": "code",
   "execution_count": 112,
   "id": "9c91cba2",
   "metadata": {},
   "outputs": [],
   "source": [
    "y_pred_gbr=gbr_best.predict(X_test_pca)"
   ]
  },
  {
   "cell_type": "code",
   "execution_count": 113,
   "id": "47ef8f01",
   "metadata": {},
   "outputs": [
    {
     "data": {
      "text/plain": [
       "(0.9484295648131338, 0.0023888327260391355, 0.037852248838424606)"
      ]
     },
     "execution_count": 113,
     "metadata": {},
     "output_type": "execute_result"
    }
   ],
   "source": [
    "x=r2_score(y_test,y_pred_gbr)\n",
    "y=mean_squared_error(y_test,y_pred_gbr)\n",
    "z=mean_absolute_error(y_test,y_pred_gbr)\n",
    "x,y,z"
   ]
  },
  {
   "cell_type": "code",
   "execution_count": 114,
   "id": "76287b87",
   "metadata": {},
   "outputs": [],
   "source": [
    "optimizied_results.loc[len(optimizied_results)]=['Gradient Boosting Regressor',x,y,z]"
   ]
  },
  {
   "cell_type": "code",
   "execution_count": 115,
   "id": "a7466cca",
   "metadata": {},
   "outputs": [
    {
     "data": {
      "text/html": [
       "<div>\n",
       "<style scoped>\n",
       "    .dataframe tbody tr th:only-of-type {\n",
       "        vertical-align: middle;\n",
       "    }\n",
       "\n",
       "    .dataframe tbody tr th {\n",
       "        vertical-align: top;\n",
       "    }\n",
       "\n",
       "    .dataframe thead th {\n",
       "        text-align: right;\n",
       "    }\n",
       "</style>\n",
       "<table border=\"1\" class=\"dataframe\">\n",
       "  <thead>\n",
       "    <tr style=\"text-align: right;\">\n",
       "      <th></th>\n",
       "      <th>Model_name</th>\n",
       "      <th>R2 score</th>\n",
       "      <th>RMSE</th>\n",
       "      <th>MAE</th>\n",
       "    </tr>\n",
       "  </thead>\n",
       "  <tbody>\n",
       "    <tr>\n",
       "      <th>0</th>\n",
       "      <td>SVM_poly_kernel</td>\n",
       "      <td>0.949556</td>\n",
       "      <td>0.002337</td>\n",
       "      <td>0.040451</td>\n",
       "    </tr>\n",
       "    <tr>\n",
       "      <th>1</th>\n",
       "      <td>SVM_rbf_kernel</td>\n",
       "      <td>0.940765</td>\n",
       "      <td>0.002744</td>\n",
       "      <td>0.038008</td>\n",
       "    </tr>\n",
       "    <tr>\n",
       "      <th>2</th>\n",
       "      <td>Gradient Boosting Regressor</td>\n",
       "      <td>0.948430</td>\n",
       "      <td>0.002389</td>\n",
       "      <td>0.037852</td>\n",
       "    </tr>\n",
       "  </tbody>\n",
       "</table>\n",
       "</div>"
      ],
      "text/plain": [
       "                    Model_name  R2 score      RMSE       MAE\n",
       "0              SVM_poly_kernel  0.949556  0.002337  0.040451\n",
       "1               SVM_rbf_kernel  0.940765  0.002744  0.038008\n",
       "2  Gradient Boosting Regressor  0.948430  0.002389  0.037852"
      ]
     },
     "execution_count": 115,
     "metadata": {},
     "output_type": "execute_result"
    }
   ],
   "source": [
    "optimizied_results"
   ]
  },
  {
   "cell_type": "markdown",
   "id": "12b43a0a",
   "metadata": {},
   "source": [
    "## With out Dimensionality Reduction:"
   ]
  },
  {
   "cell_type": "code",
   "execution_count": 116,
   "id": "355cb2a8",
   "metadata": {},
   "outputs": [
    {
     "name": "stdout",
     "output_type": "stream",
     "text": [
      "Fitting 5 folds for each of 10 candidates, totalling 50 fits\n"
     ]
    },
    {
     "data": {
      "text/plain": [
       "RandomizedSearchCV(cv=5, estimator=GradientBoostingRegressor(), n_jobs=-1,\n",
       "                   param_distributions={'criterion': ['friedman_mse',\n",
       "                                                      'squared_error'],\n",
       "                                        'learning_rate': [0.1, 0.15, 0.2, 0.25],\n",
       "                                        'loss': ['squared_error',\n",
       "                                                 'absolute_error', 'huber',\n",
       "                                                 'quantile'],\n",
       "                                        'max_depth': [2, 3, 4],\n",
       "                                        'n_estimators': [50, 75, 100, 125,\n",
       "                                                         150]},\n",
       "                   random_state=80, verbose=2)"
      ]
     },
     "execution_count": 116,
     "metadata": {},
     "output_type": "execute_result"
    }
   ],
   "source": [
    "gbr.fit(X_train, y_train)"
   ]
  },
  {
   "cell_type": "code",
   "execution_count": 117,
   "id": "e25460ee",
   "metadata": {},
   "outputs": [
    {
     "data": {
      "text/plain": [
       "{'n_estimators': 150,\n",
       " 'max_depth': 4,\n",
       " 'loss': 'squared_error',\n",
       " 'learning_rate': 0.15,\n",
       " 'criterion': 'squared_error'}"
      ]
     },
     "execution_count": 117,
     "metadata": {},
     "output_type": "execute_result"
    }
   ],
   "source": [
    "gbr.best_params_"
   ]
  },
  {
   "cell_type": "code",
   "execution_count": 118,
   "id": "0cd40179",
   "metadata": {},
   "outputs": [],
   "source": [
    "gbr_best = GradientBoostingRegressor(n_estimators=150,max_depth=4,loss='squared_error',learning_rate= 0.2,criterion='friedman_mse') "
   ]
  },
  {
   "cell_type": "code",
   "execution_count": 119,
   "id": "cb089c10",
   "metadata": {},
   "outputs": [
    {
     "data": {
      "text/plain": [
       "GradientBoostingRegressor(learning_rate=0.2, max_depth=4, n_estimators=150)"
      ]
     },
     "execution_count": 119,
     "metadata": {},
     "output_type": "execute_result"
    }
   ],
   "source": [
    "gbr_best.fit(X_train,y_train)"
   ]
  },
  {
   "cell_type": "code",
   "execution_count": 120,
   "id": "2e35f6d2",
   "metadata": {},
   "outputs": [
    {
     "data": {
      "text/plain": [
       "0.9999999998893971"
      ]
     },
     "execution_count": 120,
     "metadata": {},
     "output_type": "execute_result"
    }
   ],
   "source": [
    "y_train_pred = gbr_best.predict(X_train)\n",
    "r2_score(y_train, y_train_pred)"
   ]
  },
  {
   "cell_type": "markdown",
   "id": "d7df8d9f",
   "metadata": {},
   "source": [
    "### Test dataset results:"
   ]
  },
  {
   "cell_type": "code",
   "execution_count": 121,
   "id": "8ca6f7ed",
   "metadata": {},
   "outputs": [],
   "source": [
    "y_pred=gbr_best.predict(X_test)"
   ]
  },
  {
   "cell_type": "code",
   "execution_count": 122,
   "id": "b3dec45b",
   "metadata": {},
   "outputs": [
    {
     "data": {
      "text/plain": [
       "0.9985341747507676"
      ]
     },
     "execution_count": 122,
     "metadata": {},
     "output_type": "execute_result"
    }
   ],
   "source": [
    "r2_3=r2_score(y_test,y_pred)\n",
    "r2_3"
   ]
  },
  {
   "cell_type": "markdown",
   "id": "07964581",
   "metadata": {},
   "source": [
    "# Random Forest Regressor:"
   ]
  },
  {
   "cell_type": "code",
   "execution_count": 123,
   "id": "bdb95986",
   "metadata": {},
   "outputs": [],
   "source": [
    "# Create the parameter grid based on the results of svr.. \n",
    "\n",
    "\n",
    "rf =RandomForestRegressor() \n",
    "\n",
    "\n",
    "params = {\n",
    "    'n_estimators':[50,75,100,125,150],\n",
    "    'max_depth': [2,3,4],\n",
    "     'max_features':['sqrt', 'log2',None],\n",
    "    'criterion':['friedman_mse', 'squared_error','absolute_error','poisson']\n",
    "}"
   ]
  },
  {
   "cell_type": "code",
   "execution_count": 124,
   "id": "eda354be",
   "metadata": {},
   "outputs": [],
   "source": [
    "rf = RandomizedSearchCV(estimator = rf,param_distributions = params, cv = 5, verbose=2, random_state=80,n_jobs=-1)"
   ]
  },
  {
   "cell_type": "code",
   "execution_count": 125,
   "id": "25afb5b0",
   "metadata": {},
   "outputs": [
    {
     "name": "stdout",
     "output_type": "stream",
     "text": [
      "Fitting 5 folds for each of 10 candidates, totalling 50 fits\n"
     ]
    },
    {
     "data": {
      "text/plain": [
       "RandomizedSearchCV(cv=5, estimator=RandomForestRegressor(), n_jobs=-1,\n",
       "                   param_distributions={'criterion': ['friedman_mse',\n",
       "                                                      'squared_error',\n",
       "                                                      'absolute_error',\n",
       "                                                      'poisson'],\n",
       "                                        'max_depth': [2, 3, 4],\n",
       "                                        'max_features': ['sqrt', 'log2', None],\n",
       "                                        'n_estimators': [50, 75, 100, 125,\n",
       "                                                         150]},\n",
       "                   random_state=80, verbose=2)"
      ]
     },
     "execution_count": 125,
     "metadata": {},
     "output_type": "execute_result"
    }
   ],
   "source": [
    "rf.fit(X_train_pca, y_train)"
   ]
  },
  {
   "cell_type": "markdown",
   "id": "baeb3f73",
   "metadata": {},
   "source": [
    "## Building the model with best params:"
   ]
  },
  {
   "cell_type": "code",
   "execution_count": 126,
   "id": "60edcb41",
   "metadata": {},
   "outputs": [
    {
     "data": {
      "text/plain": [
       "{'n_estimators': 75,\n",
       " 'max_features': 'sqrt',\n",
       " 'max_depth': 4,\n",
       " 'criterion': 'absolute_error'}"
      ]
     },
     "execution_count": 126,
     "metadata": {},
     "output_type": "execute_result"
    }
   ],
   "source": [
    "rf.best_params_"
   ]
  },
  {
   "cell_type": "code",
   "execution_count": 127,
   "id": "398b1ade",
   "metadata": {},
   "outputs": [],
   "source": [
    "rf_best = RandomForestRegressor(n_estimators=75,max_depth=4,max_features='log2',criterion='friedman_mse') "
   ]
  },
  {
   "cell_type": "code",
   "execution_count": 128,
   "id": "42c0fa2e",
   "metadata": {},
   "outputs": [
    {
     "data": {
      "text/plain": [
       "RandomForestRegressor(criterion='friedman_mse', max_depth=4,\n",
       "                      max_features='log2', n_estimators=75)"
      ]
     },
     "execution_count": 128,
     "metadata": {},
     "output_type": "execute_result"
    }
   ],
   "source": [
    "rf_best.fit(X_train_pca,y_train)"
   ]
  },
  {
   "cell_type": "code",
   "execution_count": 129,
   "id": "f59893fe",
   "metadata": {},
   "outputs": [
    {
     "data": {
      "text/plain": [
       "0.9608598003358908"
      ]
     },
     "execution_count": 129,
     "metadata": {},
     "output_type": "execute_result"
    }
   ],
   "source": [
    "y_train_pred = rf_best.predict(X_train_pca)\n",
    "r2_score(y_train, y_train_pred)"
   ]
  },
  {
   "cell_type": "markdown",
   "id": "d9558c51",
   "metadata": {},
   "source": [
    "## Test dataset results:"
   ]
  },
  {
   "cell_type": "code",
   "execution_count": 130,
   "id": "5668f21e",
   "metadata": {},
   "outputs": [],
   "source": [
    "y_pred_rf=rf_best.predict(X_test_pca)"
   ]
  },
  {
   "cell_type": "code",
   "execution_count": 131,
   "id": "292e3f8a",
   "metadata": {},
   "outputs": [
    {
     "data": {
      "text/plain": [
       "(0.8473648002806111, 0.007070329325591109, 0.06072701854604451)"
      ]
     },
     "execution_count": 131,
     "metadata": {},
     "output_type": "execute_result"
    }
   ],
   "source": [
    "x=r2_score(y_test,y_pred_rf)\n",
    "y=mean_squared_error(y_test,y_pred_rf)\n",
    "z=mean_absolute_error(y_test,y_pred_rf)\n",
    "x,y,z"
   ]
  },
  {
   "cell_type": "code",
   "execution_count": 132,
   "id": "a50b3fec",
   "metadata": {},
   "outputs": [],
   "source": [
    "optimizied_results.loc[len(optimizied_results)]=['Random Forest Regressor',x,y,z]"
   ]
  },
  {
   "cell_type": "code",
   "execution_count": 133,
   "id": "1fba5511",
   "metadata": {},
   "outputs": [
    {
     "data": {
      "text/html": [
       "<div>\n",
       "<style scoped>\n",
       "    .dataframe tbody tr th:only-of-type {\n",
       "        vertical-align: middle;\n",
       "    }\n",
       "\n",
       "    .dataframe tbody tr th {\n",
       "        vertical-align: top;\n",
       "    }\n",
       "\n",
       "    .dataframe thead th {\n",
       "        text-align: right;\n",
       "    }\n",
       "</style>\n",
       "<table border=\"1\" class=\"dataframe\">\n",
       "  <thead>\n",
       "    <tr style=\"text-align: right;\">\n",
       "      <th></th>\n",
       "      <th>Model_name</th>\n",
       "      <th>R2 score</th>\n",
       "      <th>RMSE</th>\n",
       "      <th>MAE</th>\n",
       "    </tr>\n",
       "  </thead>\n",
       "  <tbody>\n",
       "    <tr>\n",
       "      <th>0</th>\n",
       "      <td>SVM_poly_kernel</td>\n",
       "      <td>0.949556</td>\n",
       "      <td>0.002337</td>\n",
       "      <td>0.040451</td>\n",
       "    </tr>\n",
       "    <tr>\n",
       "      <th>1</th>\n",
       "      <td>SVM_rbf_kernel</td>\n",
       "      <td>0.940765</td>\n",
       "      <td>0.002744</td>\n",
       "      <td>0.038008</td>\n",
       "    </tr>\n",
       "    <tr>\n",
       "      <th>2</th>\n",
       "      <td>Gradient Boosting Regressor</td>\n",
       "      <td>0.948430</td>\n",
       "      <td>0.002389</td>\n",
       "      <td>0.037852</td>\n",
       "    </tr>\n",
       "    <tr>\n",
       "      <th>3</th>\n",
       "      <td>Random Forest Regressor</td>\n",
       "      <td>0.847365</td>\n",
       "      <td>0.007070</td>\n",
       "      <td>0.060727</td>\n",
       "    </tr>\n",
       "  </tbody>\n",
       "</table>\n",
       "</div>"
      ],
      "text/plain": [
       "                    Model_name  R2 score      RMSE       MAE\n",
       "0              SVM_poly_kernel  0.949556  0.002337  0.040451\n",
       "1               SVM_rbf_kernel  0.940765  0.002744  0.038008\n",
       "2  Gradient Boosting Regressor  0.948430  0.002389  0.037852\n",
       "3      Random Forest Regressor  0.847365  0.007070  0.060727"
      ]
     },
     "execution_count": 133,
     "metadata": {},
     "output_type": "execute_result"
    }
   ],
   "source": [
    "optimizied_results"
   ]
  },
  {
   "cell_type": "markdown",
   "id": "12ae974d",
   "metadata": {},
   "source": [
    "## With out Dimensionality Reduction:"
   ]
  },
  {
   "cell_type": "code",
   "execution_count": 134,
   "id": "0c8e2ee5",
   "metadata": {},
   "outputs": [
    {
     "name": "stdout",
     "output_type": "stream",
     "text": [
      "Fitting 5 folds for each of 10 candidates, totalling 50 fits\n"
     ]
    },
    {
     "data": {
      "text/plain": [
       "RandomizedSearchCV(cv=5, estimator=RandomForestRegressor(), n_jobs=-1,\n",
       "                   param_distributions={'criterion': ['friedman_mse',\n",
       "                                                      'squared_error',\n",
       "                                                      'absolute_error',\n",
       "                                                      'poisson'],\n",
       "                                        'max_depth': [2, 3, 4],\n",
       "                                        'max_features': ['sqrt', 'log2', None],\n",
       "                                        'n_estimators': [50, 75, 100, 125,\n",
       "                                                         150]},\n",
       "                   random_state=80, verbose=2)"
      ]
     },
     "execution_count": 134,
     "metadata": {},
     "output_type": "execute_result"
    }
   ],
   "source": [
    "rf.fit(X_train, y_train)"
   ]
  },
  {
   "cell_type": "code",
   "execution_count": 135,
   "id": "bf7b6ebb",
   "metadata": {},
   "outputs": [
    {
     "data": {
      "text/plain": [
       "{'n_estimators': 75,\n",
       " 'max_features': None,\n",
       " 'max_depth': 3,\n",
       " 'criterion': 'squared_error'}"
      ]
     },
     "execution_count": 135,
     "metadata": {},
     "output_type": "execute_result"
    }
   ],
   "source": [
    "rf.best_params_"
   ]
  },
  {
   "cell_type": "code",
   "execution_count": 136,
   "id": "9960fcee",
   "metadata": {},
   "outputs": [],
   "source": [
    "rf_best = RandomForestRegressor(n_estimators=125,max_depth=3,max_features=None,criterion='squared_error') "
   ]
  },
  {
   "cell_type": "code",
   "execution_count": 137,
   "id": "d4d98ec5",
   "metadata": {},
   "outputs": [
    {
     "data": {
      "text/plain": [
       "RandomForestRegressor(max_depth=3, max_features=None, n_estimators=125)"
      ]
     },
     "execution_count": 137,
     "metadata": {},
     "output_type": "execute_result"
    }
   ],
   "source": [
    "rf_best.fit(X_train,y_train)"
   ]
  },
  {
   "cell_type": "code",
   "execution_count": 138,
   "id": "3ac3a850",
   "metadata": {},
   "outputs": [
    {
     "data": {
      "text/plain": [
       "0.9946658250239586"
      ]
     },
     "execution_count": 138,
     "metadata": {},
     "output_type": "execute_result"
    }
   ],
   "source": [
    "y_train_pred = rf_best.predict(X_train)\n",
    "r2_score(y_train, y_train_pred)"
   ]
  },
  {
   "cell_type": "markdown",
   "id": "cf787858",
   "metadata": {},
   "source": [
    "### Test dataset results:"
   ]
  },
  {
   "cell_type": "code",
   "execution_count": 139,
   "id": "2994f41b",
   "metadata": {},
   "outputs": [],
   "source": [
    "y_pred=rf_best.predict(X_test)"
   ]
  },
  {
   "cell_type": "code",
   "execution_count": 140,
   "id": "91562eac",
   "metadata": {},
   "outputs": [
    {
     "data": {
      "text/plain": [
       "0.9876924819609731"
      ]
     },
     "execution_count": 140,
     "metadata": {},
     "output_type": "execute_result"
    }
   ],
   "source": [
    "r2_4=r2_score(y_test,y_pred)\n",
    "r2_4"
   ]
  },
  {
   "cell_type": "code",
   "execution_count": 141,
   "id": "4797149d",
   "metadata": {},
   "outputs": [],
   "source": [
    "optimizied_results['R2 score_with out dr']=[r2_1,r2_2,r2_3,r2_4]"
   ]
  },
  {
   "cell_type": "code",
   "execution_count": 142,
   "id": "8f32a412",
   "metadata": {},
   "outputs": [
    {
     "data": {
      "text/html": [
       "<div>\n",
       "<style scoped>\n",
       "    .dataframe tbody tr th:only-of-type {\n",
       "        vertical-align: middle;\n",
       "    }\n",
       "\n",
       "    .dataframe tbody tr th {\n",
       "        vertical-align: top;\n",
       "    }\n",
       "\n",
       "    .dataframe thead th {\n",
       "        text-align: right;\n",
       "    }\n",
       "</style>\n",
       "<table border=\"1\" class=\"dataframe\">\n",
       "  <thead>\n",
       "    <tr style=\"text-align: right;\">\n",
       "      <th></th>\n",
       "      <th>Model_name</th>\n",
       "      <th>R2 score</th>\n",
       "      <th>RMSE</th>\n",
       "      <th>MAE</th>\n",
       "      <th>R2 score_with out dr</th>\n",
       "    </tr>\n",
       "  </thead>\n",
       "  <tbody>\n",
       "    <tr>\n",
       "      <th>0</th>\n",
       "      <td>SVM_poly_kernel</td>\n",
       "      <td>0.949556</td>\n",
       "      <td>0.002337</td>\n",
       "      <td>0.040451</td>\n",
       "      <td>0.937449</td>\n",
       "    </tr>\n",
       "    <tr>\n",
       "      <th>1</th>\n",
       "      <td>SVM_rbf_kernel</td>\n",
       "      <td>0.940765</td>\n",
       "      <td>0.002744</td>\n",
       "      <td>0.038008</td>\n",
       "      <td>0.926991</td>\n",
       "    </tr>\n",
       "    <tr>\n",
       "      <th>2</th>\n",
       "      <td>Gradient Boosting Regressor</td>\n",
       "      <td>0.948430</td>\n",
       "      <td>0.002389</td>\n",
       "      <td>0.037852</td>\n",
       "      <td>0.998534</td>\n",
       "    </tr>\n",
       "    <tr>\n",
       "      <th>3</th>\n",
       "      <td>Random Forest Regressor</td>\n",
       "      <td>0.847365</td>\n",
       "      <td>0.007070</td>\n",
       "      <td>0.060727</td>\n",
       "      <td>0.987692</td>\n",
       "    </tr>\n",
       "  </tbody>\n",
       "</table>\n",
       "</div>"
      ],
      "text/plain": [
       "                    Model_name  R2 score      RMSE       MAE  \\\n",
       "0              SVM_poly_kernel  0.949556  0.002337  0.040451   \n",
       "1               SVM_rbf_kernel  0.940765  0.002744  0.038008   \n",
       "2  Gradient Boosting Regressor  0.948430  0.002389  0.037852   \n",
       "3      Random Forest Regressor  0.847365  0.007070  0.060727   \n",
       "\n",
       "   R2 score_with out dr  \n",
       "0              0.937449  \n",
       "1              0.926991  \n",
       "2              0.998534  \n",
       "3              0.987692  "
      ]
     },
     "execution_count": 142,
     "metadata": {},
     "output_type": "execute_result"
    }
   ],
   "source": [
    "optimizied_results"
   ]
  },
  {
   "cell_type": "code",
   "execution_count": 143,
   "id": "3fdc3fd3",
   "metadata": {},
   "outputs": [
    {
     "data": {
      "text/html": [
       "<div>\n",
       "<style scoped>\n",
       "    .dataframe tbody tr th:only-of-type {\n",
       "        vertical-align: middle;\n",
       "    }\n",
       "\n",
       "    .dataframe tbody tr th {\n",
       "        vertical-align: top;\n",
       "    }\n",
       "\n",
       "    .dataframe thead th {\n",
       "        text-align: right;\n",
       "    }\n",
       "</style>\n",
       "<table border=\"1\" class=\"dataframe\">\n",
       "  <thead>\n",
       "    <tr style=\"text-align: right;\">\n",
       "      <th></th>\n",
       "      <th>Model_name</th>\n",
       "      <th>variable</th>\n",
       "      <th>value</th>\n",
       "    </tr>\n",
       "  </thead>\n",
       "  <tbody>\n",
       "    <tr>\n",
       "      <th>0</th>\n",
       "      <td>SVM_poly_kernel</td>\n",
       "      <td>R2 score</td>\n",
       "      <td>0.949556</td>\n",
       "    </tr>\n",
       "    <tr>\n",
       "      <th>1</th>\n",
       "      <td>SVM_rbf_kernel</td>\n",
       "      <td>R2 score</td>\n",
       "      <td>0.940765</td>\n",
       "    </tr>\n",
       "    <tr>\n",
       "      <th>2</th>\n",
       "      <td>Gradient Boosting Regressor</td>\n",
       "      <td>R2 score</td>\n",
       "      <td>0.948430</td>\n",
       "    </tr>\n",
       "    <tr>\n",
       "      <th>3</th>\n",
       "      <td>Random Forest Regressor</td>\n",
       "      <td>R2 score</td>\n",
       "      <td>0.847365</td>\n",
       "    </tr>\n",
       "    <tr>\n",
       "      <th>4</th>\n",
       "      <td>SVM_poly_kernel</td>\n",
       "      <td>RMSE</td>\n",
       "      <td>0.002337</td>\n",
       "    </tr>\n",
       "    <tr>\n",
       "      <th>5</th>\n",
       "      <td>SVM_rbf_kernel</td>\n",
       "      <td>RMSE</td>\n",
       "      <td>0.002744</td>\n",
       "    </tr>\n",
       "    <tr>\n",
       "      <th>6</th>\n",
       "      <td>Gradient Boosting Regressor</td>\n",
       "      <td>RMSE</td>\n",
       "      <td>0.002389</td>\n",
       "    </tr>\n",
       "    <tr>\n",
       "      <th>7</th>\n",
       "      <td>Random Forest Regressor</td>\n",
       "      <td>RMSE</td>\n",
       "      <td>0.007070</td>\n",
       "    </tr>\n",
       "    <tr>\n",
       "      <th>8</th>\n",
       "      <td>SVM_poly_kernel</td>\n",
       "      <td>MAE</td>\n",
       "      <td>0.040451</td>\n",
       "    </tr>\n",
       "    <tr>\n",
       "      <th>9</th>\n",
       "      <td>SVM_rbf_kernel</td>\n",
       "      <td>MAE</td>\n",
       "      <td>0.038008</td>\n",
       "    </tr>\n",
       "    <tr>\n",
       "      <th>10</th>\n",
       "      <td>Gradient Boosting Regressor</td>\n",
       "      <td>MAE</td>\n",
       "      <td>0.037852</td>\n",
       "    </tr>\n",
       "    <tr>\n",
       "      <th>11</th>\n",
       "      <td>Random Forest Regressor</td>\n",
       "      <td>MAE</td>\n",
       "      <td>0.060727</td>\n",
       "    </tr>\n",
       "  </tbody>\n",
       "</table>\n",
       "</div>"
      ],
      "text/plain": [
       "                     Model_name  variable     value\n",
       "0               SVM_poly_kernel  R2 score  0.949556\n",
       "1                SVM_rbf_kernel  R2 score  0.940765\n",
       "2   Gradient Boosting Regressor  R2 score  0.948430\n",
       "3       Random Forest Regressor  R2 score  0.847365\n",
       "4               SVM_poly_kernel      RMSE  0.002337\n",
       "5                SVM_rbf_kernel      RMSE  0.002744\n",
       "6   Gradient Boosting Regressor      RMSE  0.002389\n",
       "7       Random Forest Regressor      RMSE  0.007070\n",
       "8               SVM_poly_kernel       MAE  0.040451\n",
       "9                SVM_rbf_kernel       MAE  0.038008\n",
       "10  Gradient Boosting Regressor       MAE  0.037852\n",
       "11      Random Forest Regressor       MAE  0.060727"
      ]
     },
     "execution_count": 143,
     "metadata": {},
     "output_type": "execute_result"
    }
   ],
   "source": [
    "optimizied_results1=pd.melt(optimizied_results,id_vars=['Model_name'], value_vars=['R2 score','RMSE','MAE'])\n",
    "optimizied_results1"
   ]
  },
  {
   "cell_type": "code",
   "execution_count": 144,
   "id": "a1591455",
   "metadata": {},
   "outputs": [
    {
     "data": {
      "text/html": [
       "<div>\n",
       "<style scoped>\n",
       "    .dataframe tbody tr th:only-of-type {\n",
       "        vertical-align: middle;\n",
       "    }\n",
       "\n",
       "    .dataframe tbody tr th {\n",
       "        vertical-align: top;\n",
       "    }\n",
       "\n",
       "    .dataframe thead th {\n",
       "        text-align: right;\n",
       "    }\n",
       "</style>\n",
       "<table border=\"1\" class=\"dataframe\">\n",
       "  <thead>\n",
       "    <tr style=\"text-align: right;\">\n",
       "      <th></th>\n",
       "      <th>Model_name</th>\n",
       "      <th>variable</th>\n",
       "      <th>value</th>\n",
       "    </tr>\n",
       "  </thead>\n",
       "  <tbody>\n",
       "    <tr>\n",
       "      <th>0</th>\n",
       "      <td>SVM_poly_kernel</td>\n",
       "      <td>R2 score</td>\n",
       "      <td>0.949556</td>\n",
       "    </tr>\n",
       "    <tr>\n",
       "      <th>1</th>\n",
       "      <td>SVM_rbf_kernel</td>\n",
       "      <td>R2 score</td>\n",
       "      <td>0.940765</td>\n",
       "    </tr>\n",
       "    <tr>\n",
       "      <th>2</th>\n",
       "      <td>Gradient Boosting Regressor</td>\n",
       "      <td>R2 score</td>\n",
       "      <td>0.948430</td>\n",
       "    </tr>\n",
       "    <tr>\n",
       "      <th>3</th>\n",
       "      <td>Random Forest Regressor</td>\n",
       "      <td>R2 score</td>\n",
       "      <td>0.847365</td>\n",
       "    </tr>\n",
       "    <tr>\n",
       "      <th>4</th>\n",
       "      <td>SVM_poly_kernel</td>\n",
       "      <td>R2 score_with out dr</td>\n",
       "      <td>0.937449</td>\n",
       "    </tr>\n",
       "    <tr>\n",
       "      <th>5</th>\n",
       "      <td>SVM_rbf_kernel</td>\n",
       "      <td>R2 score_with out dr</td>\n",
       "      <td>0.926991</td>\n",
       "    </tr>\n",
       "    <tr>\n",
       "      <th>6</th>\n",
       "      <td>Gradient Boosting Regressor</td>\n",
       "      <td>R2 score_with out dr</td>\n",
       "      <td>0.998534</td>\n",
       "    </tr>\n",
       "    <tr>\n",
       "      <th>7</th>\n",
       "      <td>Random Forest Regressor</td>\n",
       "      <td>R2 score_with out dr</td>\n",
       "      <td>0.987692</td>\n",
       "    </tr>\n",
       "  </tbody>\n",
       "</table>\n",
       "</div>"
      ],
      "text/plain": [
       "                    Model_name              variable     value\n",
       "0              SVM_poly_kernel              R2 score  0.949556\n",
       "1               SVM_rbf_kernel              R2 score  0.940765\n",
       "2  Gradient Boosting Regressor              R2 score  0.948430\n",
       "3      Random Forest Regressor              R2 score  0.847365\n",
       "4              SVM_poly_kernel  R2 score_with out dr  0.937449\n",
       "5               SVM_rbf_kernel  R2 score_with out dr  0.926991\n",
       "6  Gradient Boosting Regressor  R2 score_with out dr  0.998534\n",
       "7      Random Forest Regressor  R2 score_with out dr  0.987692"
      ]
     },
     "execution_count": 144,
     "metadata": {},
     "output_type": "execute_result"
    }
   ],
   "source": [
    "optimizied_results2=pd.melt(optimizied_results,id_vars=['Model_name'], value_vars=['R2 score','R2 score_with out dr'])\n",
    "optimizied_results2"
   ]
  },
  {
   "cell_type": "markdown",
   "id": "767aab3d",
   "metadata": {},
   "source": [
    "# Q1:"
   ]
  },
  {
   "cell_type": "code",
   "execution_count": 145,
   "id": "51287864",
   "metadata": {},
   "outputs": [
    {
     "data": {
      "image/png": "[encoded data removed]",
      "text/plain": [
       "<Figure size 720x576 with 1 Axes>"
      ]
     },
     "metadata": {
      "needs_background": "light"
     },
     "output_type": "display_data"
    }
   ],
   "source": [
    "plt.figure(figsize=[10,8])\n",
    "g=sns.barplot(x='Model_name',y='value',hue='variable',data=optimizied_results1)\n",
    "g.set_xticklabels(g.get_xticklabels(),rotation=90)\n",
    "for p in g.patches:\n",
    "    g.annotate('{:.4f}'.format(p.get_height()),(p.get_x()+0.15,p.get_height()),ha='center',va='bottom',color='black',fontsize=10)\n",
    "plt.xticks(size = 15)\n",
    "plt.yticks(size = 15)\n",
    "plt.show()"
   ]
  },
  {
   "cell_type": "markdown",
   "id": "d05197ec",
   "metadata": {},
   "source": [
    "# Q2:"
   ]
  },
  {
   "cell_type": "code",
   "execution_count": 146,
   "id": "74ba912f",
   "metadata": {},
   "outputs": [
    {
     "data": {
      "image/png": "[encoded data removed]",
      "text/plain": [
       "<Figure size 1080x1080 with 1 Axes>"
      ]
     },
     "metadata": {
      "needs_background": "light"
     },
     "output_type": "display_data"
    }
   ],
   "source": [
    "plt.figure(figsize=[15,15])\n",
    "g=sns.barplot(x='Model_name',y='value',hue='variable',data=optimizied_results2)\n",
    "g.set_xticklabels(g.get_xticklabels(),rotation=90)\n",
    "for p in g.patches:\n",
    "    g.annotate('{:.4f}'.format(p.get_height()),(p.get_x()+0.2,p.get_height()),ha='center',va='bottom',color='black',fontsize=14)\n",
    "plt.xticks(size = 15)\n",
    "plt.yticks(size = 15)\n",
    "plt.show()"
   ]
  },
  {
   "cell_type": "markdown",
   "id": "4da6dff8",
   "metadata": {},
   "source": [
    "# Q3:"
   ]
  },
  {
   "cell_type": "code",
   "execution_count": 147,
   "id": "3c8ab538",
   "metadata": {},
   "outputs": [
    {
     "data": {
      "image/png": "[encoded data removed]",
      "text/plain": [
       "<Figure size 1080x720 with 4 Axes>"
      ]
     },
     "metadata": {
      "needs_background": "light"
     },
     "output_type": "display_data"
    }
   ],
   "source": [
    "fig = plt.figure(figsize = [15,10])\n",
    "fig.suptitle('y_test vs y_test_pred', fontsize = 15)\n",
    "plt.subplot(2,2,1)\n",
    "plt.scatter(y_test, y_pred_svr1)\n",
    "plt.xlabel('y_test', fontsize = 10)                          # X-label\n",
    "plt.ylabel('y_pred_svr1', fontsize = 10)  \n",
    "plt.xticks(rotation=90)\n",
    "plt.subplot(2,2,2)\n",
    "plt.scatter(y_test, y_pred_svr2)\n",
    "plt.xlabel('y_test', fontsize = 10)                          # X-label\n",
    "plt.ylabel('y_pred_svr2', fontsize = 10)  \n",
    "plt.xticks(rotation=90)\n",
    "plt.subplot(2,2,3)\n",
    "plt.scatter(y_test, y_pred_gbr)\n",
    "plt.xlabel('y_test', fontsize = 10)                          # X-label\n",
    "plt.ylabel('y_pred_gbr', fontsize = 10)  \n",
    "plt.subplot(2,2,4)\n",
    "plt.scatter(y_test, y_pred_rf)\n",
    "plt.xlabel('y_test', fontsize = 10)                          # X-label\n",
    "plt.ylabel('y_pred_rf', fontsize = 10)  \n",
    "plt.xticks(rotation=90)\n",
    "plt.show()"
   ]
  },
  {
   "cell_type": "code",
   "execution_count": null,
   "id": "a96406c0",
   "metadata": {},
   "outputs": [],
   "source": []
  },
  {
   "cell_type": "code",
   "execution_count": null,
   "id": "52ec2556",
   "metadata": {},
   "outputs": [],
   "source": []
  }
 ],
 "metadata": {
  "kernelspec": {
   "display_name": "Python 3 (ipykernel)",
   "language": "python",
   "name": "python3"
  },
  "language_info": {
   "codemirror_mode": {
    "name": "ipython",
    "version": 3
   },
   "file_extension": ".py",
   "mimetype": "text/x-python",
   "name": "python",
   "nbconvert_exporter": "python",
   "pygments_lexer": "ipython3",
   "version": "3.9.12"
  }
 },
 "nbformat": 4,
 "nbformat_minor": 5
}
